{
  "nbformat": 4,
  "nbformat_minor": 0,
  "metadata": {
    "colab": {
      "provenance": []
    },
    "kernelspec": {
      "name": "python3",
      "display_name": "Python 3"
    },
    "language_info": {
      "name": "python"
    }
  },
  "cells": [
    {
      "cell_type": "markdown",
      "source": [
        "# Files & exceptional handling Assignment"
      ],
      "metadata": {
        "id": "NWdkkBrQK8mH"
      }
    },
    {
      "cell_type": "markdown",
      "source": [
        "# Theory Questions"
      ],
      "metadata": {
        "id": "Qr74TwbT3Gdc"
      }
    },
    {
      "cell_type": "markdown",
      "source": [
        "**1)  What is the difference between interpreted and compiled languages?**\n",
        "\n",
        "-> The difference between interpreted and compiled language:\n",
        "* **Interpreted languages:** Execute code line-by-line, with the interpreter translating the code during runtime (e.g., Python, JavaScript).\n",
        "* **Compiled languages:** Translate the entire code into machine language before execution (e.g., C, C++)."
      ],
      "metadata": {
        "id": "XGkfRJfI3Gka"
      }
    },
    {
      "cell_type": "markdown",
      "source": [
        "**2)  What is exception handling in Python?**\n",
        "\n",
        "-> Exception handling in Python is a mechanism to manage runtime errors, also known as exceptions, in a controlled way. It allows to write robust programs that can handle unexpected conditions and continue running or terminate gracefully, providing meaningful feedback.\n",
        "\n",
        "It uses try to test code, except to handle errors, else for code that runs if no errors occur, and finally for cleanup tasks.\n",
        "\n",
        "Example:\n",
        "\n",
        "    try:\n",
        "      x = 1 / 0\n",
        "    except ZeroDivisionError:\n",
        "      print(\"Error: Division by zero!\")"
      ],
      "metadata": {
        "id": "3V1r0WwK5qvX"
      }
    },
    {
      "cell_type": "markdown",
      "source": [
        "**3)  What is the purpose of the finally block in exception handling?**\n",
        "\n",
        "-> The finally block ensures cleanup code executes whether or not an exception occurred.So it Always executes and used for cleanup (e.g., closing files).\n",
        "\n",
        "Example:\n",
        "```python\n",
        "try:\n",
        "    x = 1 / 0\n",
        "except ZeroDivisionError:\n",
        "    print(\"Error occurred\")\n",
        "finally:\n",
        "    print(\"Cleanup executed\")\n",
        "```"
      ],
      "metadata": {
        "id": "S0ofu5cI8mkm"
      }
    },
    {
      "cell_type": "markdown",
      "source": [
        "**4) What is logging in Python?**\n",
        "\n",
        "-> Logging is a built-in module that allows to record messages/to track events about a program's execution, such as status updates, errors, warnings, and debugging information. These logs help in monitoring and debugging applications.\n",
        "\n",
        "Few Use Cases:\n",
        "* Debugging and troubleshooting\n",
        "* Tracking application flow\n",
        "* Identifying issues in production environments\n",
        "* Storing execution details for auditing\n",
        "\n",
        "Example:\n",
        "```pytjon\n",
        "import logging\n",
        "logging.warning(\"This is a warning!\")\n",
        "```"
      ],
      "metadata": {
        "id": "W2ZTmS969Zd_"
      }
    },
    {
      "cell_type": "markdown",
      "source": [
        "**5) What is the significance of the `__del__` method in Python?**\n",
        "\n",
        "-> The `__del__` method is a destructor called when an object is about to be destroyed. It is useful for cleanup tasks. It is useful for resource cleanup (e.g., closing files or network connections)."
      ],
      "metadata": {
        "id": "-ug8cv98-8fa"
      }
    },
    {
      "cell_type": "markdown",
      "source": [
        "**6)  What is the difference between import and from ... import in Python?**\n",
        "\n",
        "-> The difference between import and from ... import in Python lies in how they bring code from modules into program and how it access the imported functionality.\n",
        "\n",
        "**import**: Imports the entire module and it requires the module name as a prefix to access functions, classes, or variables.\n",
        "\n",
        "Syntax:\n",
        "\n",
        "    import module_name\n",
        "\n",
        "Example:\n",
        "\n",
        "    import math\n",
        "    print(math.sqrt(4))\n",
        "\n",
        "**from ... import**: Imports specific parts (functions, classes, variables) of a module directly.So it can be used without a prefix.\n",
        "\n",
        "Syntax:\n",
        "\n",
        "    from module_name import specific_function_or_class\n",
        "\n",
        "Example:\n",
        "\n",
        "    from math import sqrt\n",
        "    print(sqrt(4))\n"
      ],
      "metadata": {
        "id": "I9i4WNNoDvl-"
      }
    },
    {
      "cell_type": "markdown",
      "source": [
        "**7) How can you handle multiple exceptions in Python?**\n",
        "\n",
        "-> Multiple exceptions can be handled in Python using either **multiple `except` blocks** or a **single `except` block with a tuple of exceptions**.\n",
        "\n",
        "1.Multiple except Blocks:use separate `except` blocks for different exception types.\n",
        "\n",
        "Syntax:\n",
        "```python\n",
        "try:\n",
        "   \n",
        "except ValueError:\n",
        "    \n",
        "except ZeroDivisionError:\n",
        "\n",
        "```\n",
        "2.Single `except` Block with a Tuple:catch multiple exceptions in one `except` block by passing a tuple of exception types.\n",
        "\n",
        "syntax:\n",
        "```python\n",
        "try:\n",
        "  \n",
        "except (ValueError, ZeroDivisionError) as e:\n",
        "\n",
        "```\n",
        "\n",
        "3.Using `else` and `finally` with Exceptions : use `else` (runs if no exception occurs) and `finally` (runs regardless of an exception) to manage flow.\n",
        "\n",
        "Syntax:\n",
        "```python\n",
        "try:\n",
        "   \n",
        "except (ValueError, ZeroDivisionError) as e:\n",
        "   \n",
        "else:\n",
        "  \n",
        "finally:\n",
        "    \n",
        "```"
      ],
      "metadata": {
        "id": "t55GSe4NHedW"
      }
    },
    {
      "cell_type": "markdown",
      "source": [
        "**8) What is the purpose of the with statement when handling files in Python?**\n",
        "\n",
        "-> The with statement ensures proper file handling by automatically closing the file after use.\n",
        "The `with` statement in Python is used to handle files safely and efficiently. It ensures that files are automatically closed after use, even if an error occurs, eliminating the need to manually call `file.close()`.\n",
        "\n",
        "**Benefits:**\n",
        "* Automatic file closure\n",
        "* Cleaner and more readable code\n",
        "* Prevents resource leaks\n",
        "\n",
        "Example:\n",
        "\n",
        "    with open(\"file.txt\", \"r\") as f:\n",
        "      content = f.read() # File is automatically closed after this block"
      ],
      "metadata": {
        "id": "hnH4LHQYI6Wp"
      }
    },
    {
      "cell_type": "markdown",
      "source": [
        "**9)  What is the difference between multithreading and multiprocessing?**\n",
        "\n",
        "-> Difference between multithreading and multiprocessing\n",
        "\n",
        "1. **Multithreading**:\n",
        "   * Uses threads within the same process.\n",
        "   * Best for **I/O-bound tasks** (e.g., file operations, network requests).\n",
        "   * Limited by the **GIL** (no true parallelism for Python code).\n",
        "   * Shares memory, lightweight, and faster communication.\n",
        "\n",
        "2. **Multiprocessing**:\n",
        "   * Uses multiple independent processes.\n",
        "   * Best for **CPU-bound tasks** (e.g., heavy computations).\n",
        "   * Avoids the **GIL** (true parallelism).\n",
        "   * Separate memory, higher overhead, but more powerful for parallel execution."
      ],
      "metadata": {
        "id": "DrLYbgC4LA6a"
      }
    },
    {
      "cell_type": "markdown",
      "source": [
        "**10) What are the advantages of using logging in a program?**\n",
        "\n",
        "-> Using logging in a program offers several advantages, making it a crucial tool for monitoring, debugging, and maintaining applications.\n",
        "* Debugging information is centralized.\n",
        "* Different logging levels (INFO, WARNING, ERROR) provide granular control.\n",
        "* Logs can persist for later analysis."
      ],
      "metadata": {
        "id": "j_Z4Yz36ACed"
      }
    },
    {
      "cell_type": "markdown",
      "source": [
        "**11)  What is memory management in Python?**\n",
        "\n",
        "-> Memory management refers to the process of allocating, using, and deallocating memory for programs. Python uses an efficient and automated system for this, ensuring developers can focus more on writing code rather than managing memory manually.\n",
        "\n",
        "Advantages of Memory Management:\n",
        "* Automated and efficient.\n",
        "* Simplifies coding by reducing the need for manual memory allocation/deallocation.\n",
        "* Handles memory fragmentation through pooling."
      ],
      "metadata": {
        "id": "k3itowmwBJej"
      }
    },
    {
      "cell_type": "markdown",
      "source": [
        "**12) What are the basic steps involved in exception handling in Python?**\n",
        "\n",
        "-> Basic steps in exception handling:\n",
        "* try block: Code that might raise an exception.\n",
        "* except block: Handles the exception.\n",
        "* else block: Executes if no exception occurs.\n",
        "* finally block: Executes cleanup code."
      ],
      "metadata": {
        "id": "bcI1oXdzBvHt"
      }
    },
    {
      "cell_type": "markdown",
      "source": [
        "**13)  Why is memory management important in Python?**\n",
        "\n",
        "-> memory management in Python ensures programs run efficiently, remain stable, and scale effectively while reducing the burden on developers.\n",
        "1. **Efficient Resource Utilization**:\n",
        "   * Ensures that memory is allocated and deallocated effectively, preventing wastage.\n",
        "   * Frees up unused memory for reuse, optimizing program performance.\n",
        "\n",
        "2. **Avoids Memory Leaks**:\n",
        "   * Automatically reclaims memory of unused objects via garbage collection.\n",
        "   * Prevents excessive memory consumption, which can slow down or crash applications.\n",
        "\n",
        "3. **Simplifies Development**:\n",
        "   * Automates memory handling, allowing developers to focus on functionality rather than manual memory allocation or deallocation.\n",
        "\n",
        "4. **Prevents Crashes**:\n",
        "   * Proper management avoids memory overflow and segmentation faults caused by unmanaged memory.\n",
        "\n",
        "5. **Supports Scalability**:\n",
        "   * Efficient memory use is crucial for handling large datasets or high-traffic applications without overloading system resources.\n",
        "\n",
        "6. **Handles Circular References**:\n",
        "   * Python’s garbage collector detects and clears circular references, reducing manual debugging efforts."
      ],
      "metadata": {
        "id": "bckv2CXBCUs5"
      }
    },
    {
      "cell_type": "markdown",
      "source": [
        "**14)  What is the role of try and except in exception handling?**\n",
        "\n",
        "-> The try and except statements are essential components of Python's exception-handling mechanism, designed to handle errors gracefully without crashing the program.\n",
        "* try block: Contains code that may raise an exception. Python \"tries\" to execute it.\n",
        "* except block: Handles specific or general exceptions if they occur, preventing program crashes."
      ],
      "metadata": {
        "id": "cbkI7r3hDEZH"
      }
    },
    {
      "cell_type": "markdown",
      "source": [
        "**15) How does Python's garbage collection system work?**\n",
        "\n",
        "->Python’s garbage collection (GC) system automatically reclaims memory by:\n",
        "1. **Reference Counting**: Tracks the number of references to an object. When the count drops to zero, the object is deallocated.\n",
        "2. **Cyclic Garbage Collection**: Identifies and removes objects involved in circular references that can't be cleaned by reference counting.\n",
        "3. **Generational GC**: Groups objects into generations based on their lifespan to optimize collection frequency.\n",
        "\n",
        "It also provides the `gc` module to manually control or trigger garbage collection."
      ],
      "metadata": {
        "id": "cU5WhAd4D4ST"
      }
    },
    {
      "cell_type": "markdown",
      "source": [
        "**16) What is the purpose of the else block in exception handling?**\n",
        "\n",
        "-> The else block executes if the try block runs without exceptions.\n",
        "\n",
        "Example:\n",
        "\n",
        "    try:\n",
        "      x = 10 / 2\n",
        "    except ZeroDivisionError:\n",
        "      print(\"Error\")\n",
        "    else:\n",
        "      print(\"Executed successfully\")"
      ],
      "metadata": {
        "id": "XHILFWg3EzjC"
      }
    },
    {
      "cell_type": "markdown",
      "source": [
        "**17)  What are the common logging levels in Python?**\n",
        "\n",
        "-> The common logging levels in Python, defined in the `logging` module,provides insight into the program's status, helping in debugging, monitoring, and maintaining the application.\n",
        "\n",
        "1. **DEBUG**: Detailed information for diagnosing problems during development.  \n",
        "   Example:`\"Variable x has value 10.\"\n",
        "\n",
        "2. **INFO**: General information about program execution.  \n",
        "   Example: \"Application started successfully.\"\n",
        "\n",
        "3. **WARNING**: An indication of a potential problem or unexpected behavior.  \n",
        "   Example: \"Disk space is low, consider freeing up space.\"\n",
        "\n",
        "4. **ERROR**: A serious issue that prevents part of the program from functioning.  \n",
        "   Example: \"Failed to connect to the database.\"\n",
        "\n",
        "5. **CRITICAL**: A severe error that might stop the program entirely.  \n",
        "   Example: \"System failure: shutting down immediately.\""
      ],
      "metadata": {
        "id": "3wjjL45APrTB"
      }
    },
    {
      "cell_type": "markdown",
      "source": [
        "**18)What is the difference between os.fork() and multiprocessing in Python?**\n",
        "\n",
        "-> os.fork() is a lower-level operation for process creation, whereas multiprocessing is a Pythonic abstraction that simplifies the creation and management of processes.\n",
        "\n",
        "**os.fork():**\n",
        "* Available on Unix-based systems.\n",
        "* Creates a child process by duplicating the current process.\n",
        "* The child process starts execution from the point where fork() was called.\n",
        "* Useful for low-level process management but can lead to complexity in managing resources and interprocess communication.\n",
        "\n",
        "**multiprocessing:**\n",
        "* Cross-platform (works on Windows, macOS, and Unix).\n",
        "* Provides a higher-level interface for creating processes.\n",
        "* Includes tools for interprocess communication, synchronization, and shared memory.\n",
        "* Safer and easier to use than os.fork()"
      ],
      "metadata": {
        "id": "Iig1fYcs94uZ"
      }
    },
    {
      "cell_type": "markdown",
      "source": [
        "**19) What is the importance of closing a file in Python?**\n",
        "\n",
        "-> Importance of Closing a File in Python:\n",
        "* Ensures that the file buffer is flushed, and any pending write operations are completed.\n",
        "* Releases the file resource, making it available for other processes or applications.\n",
        "* Prevents resource leaks, which can lead to performance issues or the inability to open more files.\n",
        "\n",
        "Example:\n",
        "\n",
        "    with open('example.txt', 'r') as file:\n",
        "      data = file.read()"
      ],
      "metadata": {
        "id": "iiVCuIGh-63j"
      }
    },
    {
      "cell_type": "markdown",
      "source": [
        "**20)  What is the difference between file.read() and file.readline() in Python?**\n",
        "\n",
        "-> read() reads the whole file (or a chunk), whereas readline() reads one line at a time.\n",
        "\n",
        "**file.read():**\n",
        "* Reads the entire file or a specified number of bytes.\n",
        "\n",
        "Example:\n",
        "\n",
        "    content = file.read(10)  # Reads the first 10 bytes\n",
        "\n",
        "**file.readline():**\n",
        "* Reads a single line from the file (up to the next newline character).\n",
        "* Useful for reading files line by line.\n",
        "\n",
        "Example:\n",
        "\n",
        "    line = file.readline()"
      ],
      "metadata": {
        "id": "Q4XN0i0b_YB7"
      }
    },
    {
      "cell_type": "markdown",
      "source": [
        "**21)  What is the logging module in Python used for?**\n",
        "\n",
        "-> Logging Module in Python:\n",
        "* Used for recording log messages, which are crucial for debugging, monitoring, and understanding the behavior of applications.\n",
        "* Supports different logging levels: DEBUG, INFO, WARNING, ERROR, CRITICAL.\n",
        "* Can log messages to files, streams, or remote servers.\n",
        "\n",
        "Example:\n",
        "\n",
        "    import logging\n",
        "    logging.basicConfig(level=logging.INFO)\n",
        "    logging.info(\"This is an informational message\")\n"
      ],
      "metadata": {
        "id": "giWzm86vATUP"
      }
    },
    {
      "cell_type": "markdown",
      "source": [
        "**22) What is the os module in Python used for in file handling?**\n",
        "\n",
        "-> The os module in Python is a built-in library that provides a way to interact with the operating system. It is especially useful for file handling tasks, as it offers functions for navigating the file system, manipulating directories, and performing operations on files.\n",
        "\n",
        "Common file-handling functions:\n",
        "* os.rename() - Rename a file.\n",
        "* os.remove() - Delete a file.\n",
        "* os.mkdir() - Create a directory.\n",
        "* os.rmdir() - Remove a directory.\n",
        "* os.path - Contains utilities to work with file paths.\n",
        "\n",
        "Example:\n",
        "\n",
        "    import os\n",
        "    os.remove('example.txt')  # Deletes a file"
      ],
      "metadata": {
        "id": "RhKUBPyzAzLs"
      }
    },
    {
      "cell_type": "markdown",
      "source": [
        "**23)What are the challenges associated with memory management in Python?**\n",
        "\n",
        "->  Challenges with Memory Management in Python:\n",
        "* Garbage Collection Overhead:\n",
        "Python uses automatic garbage collection, which can sometimes impact performance.\n",
        "* Circular References:\n",
        "Difficult to manage when objects reference each other.\n",
        "* Memory Leaks:\n",
        "Caused by references to unused objects, especially when external libraries or C extensions are used.\n",
        "* Global Interpreter Lock (GIL):\n",
        "Limits true parallelism in multi-threaded applications, affecting memory management and performance in some cases."
      ],
      "metadata": {
        "id": "kj0x2Rqb92dS"
      }
    },
    {
      "cell_type": "markdown",
      "source": [
        "**24)  How do you raise an exception manually in Python?**\n",
        "\n",
        "-> The  raise keyword  is used to manually trigger an exception. This allows you to create and trigger exceptions deliberately, either predefined exceptions or custom ones by subclassing Exception.\n",
        "\n",
        "Exmple:\n",
        "\n",
        "    # Raise a ValueError\n",
        "    raise ValueError(\"This is a custom error message.\")"
      ],
      "metadata": {
        "id": "rl9FSzJQ-Yuc"
      }
    },
    {
      "cell_type": "markdown",
      "source": [
        "**25) Why is it important to use multithreading in certain applications?**\n",
        "\n",
        "->\n",
        "Using multithreading in certain applications is important because it can significantly enhance performance, responsiveness, and efficiency, particularly in scenarios where tasks can run concurrently.\n",
        "\n",
        "A few importance to use multithreadingare:\n",
        "\n",
        "* Improved Application Responsiveness\n",
        "* Efficient Utilization of Resources\n",
        "* Concurrent Execution of Independent Tasks\n",
        "* Faster Execution for I/O-Bound Operations\n",
        "* Simplified Program Design for Concurrency\n",
        "* Supporting Parallelism"
      ],
      "metadata": {
        "id": "iivO7Kgz_qGq"
      }
    },
    {
      "cell_type": "markdown",
      "source": [
        "# Practical Questions"
      ],
      "metadata": {
        "id": "0SYM9tDSBUCh"
      }
    },
    {
      "cell_type": "code",
      "source": [
        "#1 How can you open a file for writing in Python and write a string to it.\n",
        "\n",
        "import os\n",
        "with open(\"output.txt\", \"w\") as file:\n",
        "    file.write(\"Hello, World!\")\n",
        "print(\"File created and content written.\")\n",
        "\n",
        "#check if file is created.\n",
        "print(\"Current working directory:\", os.getcwd())\n",
        "print(\"Files in the directory:\", os.listdir())\n",
        "\n",
        "#Download the file\n",
        "from google.colab import files\n",
        "files.download(\"output.txt\")"
      ],
      "metadata": {
        "colab": {
          "base_uri": "https://localhost:8080/",
          "height": 71
        },
        "id": "2prp9GYQBgu3",
        "outputId": "deb9e087-ec89-43cc-de6d-e6f692765949"
      },
      "execution_count": null,
      "outputs": [
        {
          "output_type": "stream",
          "name": "stdout",
          "text": [
            "File created and content written.\n",
            "Current working directory: /content\n",
            "Files in the directory: ['.config', 'output.txt', 'sample_data']\n"
          ]
        },
        {
          "output_type": "display_data",
          "data": {
            "text/plain": [
              "<IPython.core.display.Javascript object>"
            ],
            "application/javascript": [
              "\n",
              "    async function download(id, filename, size) {\n",
              "      if (!google.colab.kernel.accessAllowed) {\n",
              "        return;\n",
              "      }\n",
              "      const div = document.createElement('div');\n",
              "      const label = document.createElement('label');\n",
              "      label.textContent = `Downloading \"${filename}\": `;\n",
              "      div.appendChild(label);\n",
              "      const progress = document.createElement('progress');\n",
              "      progress.max = size;\n",
              "      div.appendChild(progress);\n",
              "      document.body.appendChild(div);\n",
              "\n",
              "      const buffers = [];\n",
              "      let downloaded = 0;\n",
              "\n",
              "      const channel = await google.colab.kernel.comms.open(id);\n",
              "      // Send a message to notify the kernel that we're ready.\n",
              "      channel.send({})\n",
              "\n",
              "      for await (const message of channel.messages) {\n",
              "        // Send a message to notify the kernel that we're ready.\n",
              "        channel.send({})\n",
              "        if (message.buffers) {\n",
              "          for (const buffer of message.buffers) {\n",
              "            buffers.push(buffer);\n",
              "            downloaded += buffer.byteLength;\n",
              "            progress.value = downloaded;\n",
              "          }\n",
              "        }\n",
              "      }\n",
              "      const blob = new Blob(buffers, {type: 'application/binary'});\n",
              "      const a = document.createElement('a');\n",
              "      a.href = window.URL.createObjectURL(blob);\n",
              "      a.download = filename;\n",
              "      div.appendChild(a);\n",
              "      a.click();\n",
              "      div.remove();\n",
              "    }\n",
              "  "
            ]
          },
          "metadata": {}
        },
        {
          "output_type": "display_data",
          "data": {
            "text/plain": [
              "<IPython.core.display.Javascript object>"
            ],
            "application/javascript": [
              "download(\"download_95cae5ed-4e03-4156-9fc6-6900323baf02\", \"output.txt\", 13)"
            ]
          },
          "metadata": {}
        }
      ]
    },
    {
      "cell_type": "code",
      "source": [
        "#2 Write a Python program to read the contents of a file and print each line.\n",
        "try:\n",
        "  with open(\"output.txt\", \"w\") as file:\n",
        "    file.write(\"Hello, World!\\n\")\n",
        "    file.write(\"This is the second line.\\n\")\n",
        "    file.write(\"And this is the third line.\\n\")\n",
        "\n",
        "  #reading file\n",
        "  with open(\"output.txt\", \"r\") as file:\n",
        "    for line in file:\n",
        "        print(line.strip())\n",
        "except FileNotFoundError:\n",
        "    print(\"The file does not exist.\")"
      ],
      "metadata": {
        "colab": {
          "base_uri": "https://localhost:8080/"
        },
        "id": "iXeNhxe6F_yj",
        "outputId": "0135214c-836e-4c2e-ad0f-a12b34d12fb2"
      },
      "execution_count": null,
      "outputs": [
        {
          "output_type": "stream",
          "name": "stdout",
          "text": [
            "Hello, World!\n",
            "This is the second line.\n",
            "And this is the third line.\n"
          ]
        }
      ]
    },
    {
      "cell_type": "code",
      "source": [
        "#3 How would you handle a case where the file doesn't exist while trying to open it for reading.\n",
        "\n",
        "# example.txt doesn't exist\n",
        "try:\n",
        "    with open(\"example.txt\", \"r\") as file:\n",
        "        print(file.read())\n",
        "except FileNotFoundError:\n",
        "    print(\"File not found. Please check the file path.\")\n"
      ],
      "metadata": {
        "colab": {
          "base_uri": "https://localhost:8080/"
        },
        "id": "234A5GnFHVb8",
        "outputId": "35a3200a-b5ec-4542-fdd1-1cc62661706f"
      },
      "execution_count": null,
      "outputs": [
        {
          "output_type": "stream",
          "name": "stdout",
          "text": [
            "File not found. Please check the file path.\n"
          ]
        }
      ]
    },
    {
      "cell_type": "code",
      "source": [
        "#4  Write a Python script that reads from one file and writes its content to another file.\n",
        "\n",
        "# Createing source file with some content\n",
        "with open(\"source.txt\", \"w\") as source_file:\n",
        "    source_file.write(\"Line 1: This is the first line.\\n\")\n",
        "    source_file.write(\"Line 2: This is the second line.\\n\")\n",
        "    source_file.write(\"Line 3: This is the third line.\")\n",
        "\n",
        "# Read from the source file and write to the destination file\n",
        "with open(\"source.txt\", \"r\") as source_file:\n",
        "    content = source_file.read()  # Read the content of the source file\n",
        "\n",
        "with open(\"destination.txt\", \"w\") as destination_file:\n",
        "    destination_file.write(content)  # Write the content to the destination file\n",
        "\n",
        "# read the content of the destination file\n",
        "with open(\"destination.txt\", \"r\") as destination_file:\n",
        "    print(\"Content of destination file:\")\n",
        "    print(destination_file.read())\n",
        "\n",
        "#Download the destination file if needed\n",
        "#from google.colab import files\n",
        "#files.download(\"destination.txt\")"
      ],
      "metadata": {
        "colab": {
          "base_uri": "https://localhost:8080/"
        },
        "id": "F7P4U5kgHzYD",
        "outputId": "b9dc331c-8f6f-4611-d4a2-0092f8d95c37"
      },
      "execution_count": null,
      "outputs": [
        {
          "output_type": "stream",
          "name": "stdout",
          "text": [
            "Content of destination file:\n",
            "Line 1: This is the first line.\n",
            "Line 2: This is the second line.\n",
            "Line 3: This is the third line.\n"
          ]
        }
      ]
    },
    {
      "cell_type": "code",
      "source": [
        "#5 How would you catch and handle division by zero error in Python?\n",
        "\n",
        "try:\n",
        "    result = 10 / 0\n",
        "except ZeroDivisionError:\n",
        "    print(\"Number cannot be divided by zero.\")"
      ],
      "metadata": {
        "colab": {
          "base_uri": "https://localhost:8080/"
        },
        "id": "2RleUokpI5oa",
        "outputId": "e4b3dca9-d18a-4bf8-b66c-52a85d189043"
      },
      "execution_count": null,
      "outputs": [
        {
          "output_type": "stream",
          "name": "stdout",
          "text": [
            "Number cannot be divided by zero.\n"
          ]
        }
      ]
    },
    {
      "cell_type": "code",
      "source": [
        "#6  Write a Python program that logs an error message to a log file when a division by zero exception occurs.\n",
        "\n",
        "import logging\n",
        "\n",
        "# Configure logging\n",
        "logging.basicConfig(filename=\"error.log\", level=logging.ERROR)\n",
        "\n",
        "# Log division by zero error\n",
        "try:\n",
        "    result = 10 / 0\n",
        "except ZeroDivisionError:\n",
        "    logging.error(\"Attempted to divide by zero.\", exc_info=True)"
      ],
      "metadata": {
        "id": "DSprRYzIJ3qT"
      },
      "execution_count": null,
      "outputs": []
    },
    {
      "cell_type": "code",
      "source": [
        "#7 How do you log information at different levels (INFO, ERROR, WARNING) in Python using the logging module?\n",
        "\n",
        "import logging\n",
        "\n",
        "# Configure logging\n",
        "logging.basicConfig(filename=\"app.log\", level=logging.DEBUG)\n",
        "\n",
        "logging.info(\"This is an informational message.\")\n",
        "logging.warning(\"This is a warning message.\")\n",
        "logging.error(\"This is an error message.\")"
      ],
      "metadata": {
        "colab": {
          "base_uri": "https://localhost:8080/"
        },
        "id": "bmT8elQoMAKa",
        "outputId": "00c2e4c1-c841-4d29-f69c-247fed9ce3d1"
      },
      "execution_count": 5,
      "outputs": [
        {
          "output_type": "stream",
          "name": "stderr",
          "text": [
            "WARNING:root:This is a warning message.\n",
            "ERROR:root:This is an error message.\n"
          ]
        }
      ]
    },
    {
      "cell_type": "code",
      "source": [
        "#8  Write a program to handle a file opening error using exception handling.\n",
        "\n",
        "# Handle file opening error using exception handling\n",
        "try:\n",
        "    with open(\"data.txt\", \"r\") as file:\n",
        "        print(file.read())\n",
        "except FileNotFoundError:\n",
        "    print(\"The file does not exist.\")"
      ],
      "metadata": {
        "colab": {
          "base_uri": "https://localhost:8080/"
        },
        "id": "hiPqLJzPe4FX",
        "outputId": "9bc11166-800e-4ed2-dce4-dc55437395dc"
      },
      "execution_count": null,
      "outputs": [
        {
          "output_type": "stream",
          "name": "stdout",
          "text": [
            "The file does not exist.\n"
          ]
        }
      ]
    },
    {
      "cell_type": "code",
      "source": [
        "#9 How can you read a file line by line and store its content in a list in Python.\n",
        "\n",
        "# Read file line by line and store in a list\n",
        "try:\n",
        "  with open(\"output.txt\", \"w\") as file:\n",
        "    file.write(\"Hello, World!\\n\")\n",
        "    file.write(\"This is the second line.\\n\")\n",
        "    file.write(\"And this is the third line.\\n\")\n",
        "\n",
        "  with open(\"output.txt\", \"r\") as file:\n",
        "    lines = [line.strip() for line in file]\n",
        "    print(lines)\n",
        "except FileNotFoundError:\n",
        "    print(\"File not found.\")"
      ],
      "metadata": {
        "colab": {
          "base_uri": "https://localhost:8080/"
        },
        "id": "rcLpdH0ufdv2",
        "outputId": "d4c33814-acbd-4510-fd41-d940510d8971"
      },
      "execution_count": null,
      "outputs": [
        {
          "output_type": "stream",
          "name": "stdout",
          "text": [
            "['Hello, World!', 'This is the second line.', 'And this is the third line.']\n"
          ]
        }
      ]
    },
    {
      "cell_type": "code",
      "source": [
        "#10  How can you append data to an existing file in Python.\n",
        "\n",
        "with open(\"output.txt\", \"a\") as file:\n",
        "    file.write(\"New data added.This is added line.\")\n",
        "\n",
        "with open(\"output.txt\", \"r\") as file:\n",
        "      for line in file:\n",
        "           print(line.strip())"
      ],
      "metadata": {
        "colab": {
          "base_uri": "https://localhost:8080/"
        },
        "id": "X6N43zqXf0Xu",
        "outputId": "74a458f2-47f4-4040-fd1f-2b45c055af76"
      },
      "execution_count": null,
      "outputs": [
        {
          "output_type": "stream",
          "name": "stdout",
          "text": [
            "Hello, World!\n",
            "This is the second line.\n",
            "And this is the third line.\n",
            "New data added.This is added line.\n"
          ]
        }
      ]
    },
    {
      "cell_type": "code",
      "source": [
        "#11 Write a Python program that uses a try-except block to handle an error\n",
        "#when attempting to access a dictionary key that doesn't exist.\n",
        "\n",
        "data = {\"name\": \"Ekta\"}\n",
        "try:\n",
        "    print(data[\"age\"])\n",
        "except KeyError:\n",
        "    print(\"The key does not exist in the dictionary.\")"
      ],
      "metadata": {
        "colab": {
          "base_uri": "https://localhost:8080/"
        },
        "id": "53t4Ct_egiwH",
        "outputId": "f5c6a158-b95d-4d18-f192-1181a0b3c191"
      },
      "execution_count": null,
      "outputs": [
        {
          "output_type": "stream",
          "name": "stdout",
          "text": [
            "The key does not exist in the dictionary.\n"
          ]
        }
      ]
    },
    {
      "cell_type": "code",
      "source": [
        "#12 Write a program that demonstrates using multiple except blocks to handle different types of exceptions.\n",
        "\n",
        "def handle_exceptions():\n",
        "    try:\n",
        "        # Taking user input\n",
        "        number = int(input(\"Enter a number: \"))\n",
        "        result = 10 / number  # This may raise a ZeroDivisionError\n",
        "        print(f\"Result of division: {result}\")\n",
        "\n",
        "    except ZeroDivisionError:\n",
        "        print(\"Error: You cannot divide by zero!\")\n",
        "    except FileNotFoundError:\n",
        "        print(\"Error: The specified file was not found!\")\n",
        "    except ValueError:\n",
        "        print(\"Error: Invalid input! Please enter a valid integer.\")\n",
        "    except Exception as e:\n",
        "        print(f\"An unexpected error occurred: {e}\")\n",
        "\n",
        "handle_exceptions()"
      ],
      "metadata": {
        "colab": {
          "base_uri": "https://localhost:8080/"
        },
        "id": "vGbsEpPNg2JZ",
        "outputId": "cc29ee6a-0807-4ba6-d53c-9d910ec2b90a"
      },
      "execution_count": null,
      "outputs": [
        {
          "output_type": "stream",
          "name": "stdout",
          "text": [
            "Enter a number: j\n",
            "Error: Invalid input! Please enter a valid integer.\n"
          ]
        }
      ]
    },
    {
      "cell_type": "code",
      "source": [
        "#13 How would you check if a file exists before attempting to read it in Python?\n",
        "\n",
        "import os\n",
        "\n",
        "# Check if file exists\n",
        "if os.path.exists(\"example.txt\"):\n",
        "    with open(\"example.txt\", \"r\") as file:\n",
        "        print(file.read())\n",
        "else:\n",
        "    print(\"File does not exist.\")"
      ],
      "metadata": {
        "colab": {
          "base_uri": "https://localhost:8080/"
        },
        "id": "lxmLe3pbp5ey",
        "outputId": "24f94e7e-3e03-4eab-c677-fb8e7030f569"
      },
      "execution_count": null,
      "outputs": [
        {
          "output_type": "stream",
          "name": "stdout",
          "text": [
            "File does not exist.\n"
          ]
        }
      ]
    },
    {
      "cell_type": "code",
      "source": [
        "#14 Write a program that uses the logging module to log both informational and error messages.\n",
        "\n",
        "import logging\n",
        "\n",
        "# Configure logging\n",
        "logging.basicConfig(filename=\"app.log\", level=logging.DEBUG)\n",
        "\n",
        "logging.info(\"This is an informational message.\")\n",
        "\n",
        "try:\n",
        "    result = 10 / 0\n",
        "except ZeroDivisionError:\n",
        "    logging.error(\"Division by zero occurred.\", exc_info=True)"
      ],
      "metadata": {
        "id": "tsrPCgE_KIQx"
      },
      "execution_count": null,
      "outputs": []
    },
    {
      "cell_type": "code",
      "source": [
        "#15 Write a Python program that prints the content of a file and handles the case when the file is empty.\n",
        "try:\n",
        "  with open(\"empty.txt\", \"w\") as file:\n",
        "    #file.write(\"Hello, World!\")\n",
        "   with open(\"empty.txt\", \"r\") as file:\n",
        "        content = file.read()\n",
        "        if content.strip():\n",
        "            print(content)\n",
        "        else:\n",
        "            print(\"The file is empty.\")\n",
        "except FileNotFoundError:\n",
        "    print(\"File not found.\")"
      ],
      "metadata": {
        "colab": {
          "base_uri": "https://localhost:8080/"
        },
        "id": "GOYAHMq9rFq8",
        "outputId": "99c4ec5d-dbfd-4e0f-9628-90f758cc4985"
      },
      "execution_count": null,
      "outputs": [
        {
          "output_type": "stream",
          "name": "stdout",
          "text": [
            "The file is empty.\n"
          ]
        }
      ]
    },
    {
      "cell_type": "code",
      "source": [
        "#16  Demonstrate how to use memory profiling to check the memory usage of a small program.\n",
        "\n",
        "# !pip install memory-profiler # to istall\n",
        "from memory_profiler import profile\n",
        "\n",
        "@profile\n",
        "def process():\n",
        "    data = [i for i in range(100000)]\n",
        "    print(\"Data processing complete.\")\n",
        "\n",
        "process()"
      ],
      "metadata": {
        "id": "m_TjpVs3s_9F",
        "colab": {
          "base_uri": "https://localhost:8080/"
        },
        "outputId": "3c5294c7-d68e-44b2-e20c-152a621fddc2"
      },
      "execution_count": 6,
      "outputs": [
        {
          "output_type": "stream",
          "name": "stdout",
          "text": [
            "Collecting memory-profiler\n",
            "  Downloading memory_profiler-0.61.0-py3-none-any.whl.metadata (20 kB)\n",
            "Requirement already satisfied: psutil in /usr/local/lib/python3.10/dist-packages (from memory-profiler) (5.9.5)\n",
            "Downloading memory_profiler-0.61.0-py3-none-any.whl (31 kB)\n",
            "Installing collected packages: memory-profiler\n",
            "Successfully installed memory-profiler-0.61.0\n"
          ]
        },
        {
          "output_type": "stream",
          "name": "stderr",
          "text": [
            "\n",
            "PYDEV DEBUGGER WARNING:\n",
            "sys.settrace() should not be used when the debugger is being used.\n",
            "This may cause the debugger to stop working correctly.\n",
            "If this is needed, please check: \n",
            "http://pydev.blogspot.com/2007/06/why-cant-pydev-debugger-work-with.html\n",
            "to see how to restore the debug tracing back correctly.\n",
            "Call Location:\n",
            "  File \"/usr/local/lib/python3.10/dist-packages/memory_profiler.py\", line 847, in enable\n",
            "    sys.settrace(self.trace_memory_usage)\n",
            "\n",
            "\n",
            "PYDEV DEBUGGER WARNING:\n",
            "sys.settrace() should not be used when the debugger is being used.\n",
            "This may cause the debugger to stop working correctly.\n",
            "If this is needed, please check: \n",
            "http://pydev.blogspot.com/2007/06/why-cant-pydev-debugger-work-with.html\n",
            "to see how to restore the debug tracing back correctly.\n",
            "Call Location:\n",
            "  File \"/usr/local/lib/python3.10/dist-packages/memory_profiler.py\", line 850, in disable\n",
            "    sys.settrace(self._original_trace_function)\n",
            "\n"
          ]
        },
        {
          "output_type": "stream",
          "name": "stdout",
          "text": [
            "ERROR: Could not find file <ipython-input-6-50f3ec11c871>\n",
            "NOTE: %mprun can only be used on functions defined in physical files, and not in the IPython environment.\n",
            "Data processing complete.\n"
          ]
        }
      ]
    },
    {
      "cell_type": "code",
      "source": [
        "#17 Write a Python program to create and write a list of numbers to a file, one number per line.\n",
        "\n",
        "with open(\"numbers.txt\", \"w\") as file:\n",
        "    for number in range(1, 11):\n",
        "        file.write(f\"{number}\\n\")\n",
        "with open(\"numbers.txt\", \"r\") as file:\n",
        "        content = file.read()\n",
        "        if content.strip():\n",
        "            print(content)"
      ],
      "metadata": {
        "colab": {
          "base_uri": "https://localhost:8080/"
        },
        "id": "A7nhxu9WtADG",
        "outputId": "ab49287d-421b-4788-c1f3-0fed37c4cb82"
      },
      "execution_count": null,
      "outputs": [
        {
          "output_type": "stream",
          "name": "stdout",
          "text": [
            "1\n",
            "2\n",
            "3\n",
            "4\n",
            "5\n",
            "6\n",
            "7\n",
            "8\n",
            "9\n",
            "10\n",
            "\n"
          ]
        }
      ]
    },
    {
      "cell_type": "code",
      "source": [
        "#18 How would you implement a basic logging setup that logs to a file with rotation after 1MB.\n",
        "\n",
        "import logging\n",
        "from logging.handlers import RotatingFileHandler\n",
        "\n",
        "# Configure rotating file handler\n",
        "handler = RotatingFileHandler(\"app.log\", maxBytes=1024 * 1024, backupCount=3)\n",
        "logger = logging.getLogger()\n",
        "logger.setLevel(logging.DEBUG)\n",
        "logger.addHandler(handler)\n",
        "\n",
        "logger.info(\"Application started.\")"
      ],
      "metadata": {
        "colab": {
          "base_uri": "https://localhost:8080/"
        },
        "id": "L9kpqJVptkNV",
        "outputId": "5a0165e3-945c-4673-b73f-51dff83daf41"
      },
      "execution_count": null,
      "outputs": [
        {
          "output_type": "stream",
          "name": "stderr",
          "text": [
            "INFO:root:Application started.\n"
          ]
        }
      ]
    },
    {
      "cell_type": "code",
      "source": [
        "#19 Write a program that handles both IndexError and KeyError using a try-except block.\n",
        "\n",
        "try:\n",
        "    lst = [1, 2, 3]\n",
        "    print(lst[5])\n",
        "    data = {\"key\": \"value\"}\n",
        "    print(data[\"missing_key\"])\n",
        "except IndexError:\n",
        "    print(\"Index out of range.\")\n",
        "except KeyError:\n",
        "    print(\"Key not found.\")"
      ],
      "metadata": {
        "colab": {
          "base_uri": "https://localhost:8080/"
        },
        "id": "WVQ02g6Gtvqw",
        "outputId": "8a9e40db-caa1-417e-c0fa-8fd809c2052b"
      },
      "execution_count": null,
      "outputs": [
        {
          "output_type": "stream",
          "name": "stdout",
          "text": [
            "Index out of range.\n"
          ]
        }
      ]
    },
    {
      "cell_type": "code",
      "source": [
        "#20 How would you open a file and read its contents using a context manager in Python?\n",
        "\n",
        "with open(\"output.txt\", \"r\") as file:\n",
        "    print(file.read())"
      ],
      "metadata": {
        "colab": {
          "base_uri": "https://localhost:8080/"
        },
        "id": "3sVzqveiuZHV",
        "outputId": "26de0de9-0130-4d86-f03b-690a5515c355"
      },
      "execution_count": null,
      "outputs": [
        {
          "output_type": "stream",
          "name": "stdout",
          "text": [
            "Hello, World!\n",
            "This is the second line.\n",
            "And this is the third line.\n",
            "New data added.This is added line.\n"
          ]
        }
      ]
    },
    {
      "cell_type": "code",
      "source": [
        "#21 Write a Python program that reads a file and prints the number of occurrences of a specific word.\n",
        "\n",
        "# Count occurrences of a specific word\n",
        "word = \"is\"\n",
        "count = 0\n",
        "try:\n",
        "    with open(\"output.txt\", \"r\") as file:\n",
        "        for line in file:\n",
        "            count += line.lower().count(word.lower())\n",
        "    print(f\"The word '{word}' appears {count} times.\")\n",
        "except FileNotFoundError:\n",
        "    print(\"File not found.\")"
      ],
      "metadata": {
        "colab": {
          "base_uri": "https://localhost:8080/"
        },
        "id": "q1FJhIkDuq1H",
        "outputId": "d5ed08c5-0f74-47b9-ec1e-0dcb6e93f18b"
      },
      "execution_count": null,
      "outputs": [
        {
          "output_type": "stream",
          "name": "stdout",
          "text": [
            "The word 'is' appears 6 times.\n"
          ]
        }
      ]
    },
    {
      "cell_type": "code",
      "source": [
        "#22 How can you check if a file is empty before attempting to read its contents.\n",
        "\n",
        "import os\n",
        "\n",
        "if os.path.exists(\"empty.txt\") and os.stat(\"empty.txt\").st_size == 0:\n",
        "    print(\"The file is empty.\")\n",
        "else:\n",
        "    print(\"The file has content.\")"
      ],
      "metadata": {
        "colab": {
          "base_uri": "https://localhost:8080/"
        },
        "id": "_xIraKACvhnE",
        "outputId": "ac0d1fc0-1d24-4c53-c946-b777cfd6ecd8"
      },
      "execution_count": null,
      "outputs": [
        {
          "output_type": "stream",
          "name": "stdout",
          "text": [
            "The file is empty.\n"
          ]
        }
      ]
    },
    {
      "cell_type": "code",
      "source": [
        "#23 Write a Python program that writes to a log file when an error occurs during file handling.\n",
        "\n",
        "import logging\n",
        "\n",
        "# Configure logging\n",
        "logging.basicConfig(filename=\"file_errors.log\", level=logging.ERROR)\n",
        "\n",
        "try:\n",
        "    with open(\"missing_files.txt\", \"r\") as file:\n",
        "        content = file.read()\n",
        "except FileNotFoundError:\n",
        "    logging.error(\"File not found error occurred.\")"
      ],
      "metadata": {
        "colab": {
          "base_uri": "https://localhost:8080/"
        },
        "id": "xdqZkAEOwIIO",
        "outputId": "ba568f24-bcfb-4ec5-da6d-60b2ac150ad4"
      },
      "execution_count": null,
      "outputs": [
        {
          "output_type": "stream",
          "name": "stderr",
          "text": [
            "ERROR:root:File not found error occurred.\n"
          ]
        }
      ]
    }
  ]
}