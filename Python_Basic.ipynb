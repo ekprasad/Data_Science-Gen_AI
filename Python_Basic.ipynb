{
  "nbformat": 4,
  "nbformat_minor": 0,
  "metadata": {
    "colab": {
      "provenance": []
    },
    "kernelspec": {
      "name": "python3",
      "display_name": "Python 3"
    },
    "language_info": {
      "name": "python"
    }
  },
  "cells": [
    {
      "cell_type": "markdown",
      "source": [
        "# Theorectical Questions"
      ],
      "metadata": {
        "id": "IWyjrc0ur307"
      }
    },
    {
      "cell_type": "markdown",
      "source": [
        "Q1) What is Python, and why is it popular?\n",
        "\n",
        "Ans-> Python is a general purpose,high-level, interpreted programming language known for its simplicity, readability, and versatility.It supports multiple programming paradigms, including procedural, object-oriented, and functional programming. It is popular because of its simplicity,extensive libraries, ease of learning,Large community and active development. and wide applicability in fields like web development, data analysis, and artificial intelligence.\n",
        "\n",
        "\n",
        "\n",
        "\n"
      ],
      "metadata": {
        "id": "MUEtiLF8UrqT"
      }
    },
    {
      "cell_type": "markdown",
      "source": [
        "Q2) What is an interpreter in Python?\n",
        "\n",
        "Ans-> An interpreter in Python is a program that executes Python code line by line. It acts as a translator and convert the source code or an high level language into intermediate code (machine level language) for execution. It allows for real-time error detection.\n",
        "\n",
        "Working of Interpreter in Python:-\n",
        "*   Source Code Analysis: The interpreter reads the source code and converts it into some sort of token. This process is Lexical Analysis.\n",
        "*   Parsing: These tokens are parsed into a structure which is called the Abstract Syntax Tree or AST.\n",
        "*   Compilation: This tree is then compiled into a low-level code known as bytecode.\n",
        "*   Execution: The bytecode is executed by the Python Virtual Machine or PVM, which translates the bytecode into machine code and runs it.\n"
      ],
      "metadata": {
        "id": "YaRED1e6zt8G"
      }
    },
    {
      "cell_type": "markdown",
      "source": [
        "Q3) What are pre-defined keywords in Python?\n",
        "\n",
        "Ans-> Pre-defined keywords are reserved words in Python that have specific meanings and cannot be used as identifier  (such as the names of variables, functions, and classes). For example:- if, for, else,raise etc.)They are used to define the syntax of the coding.\n",
        "\n",
        "\n",
        "Q4) Can keywords be used as variable names?\n",
        "\n",
        "Ans-> No, keywords cannot be used as variable names because keywords are reserved for specific purposes and has a particular meaning.\n",
        "\n",
        "**For example:**\n",
        "\n",
        "raise = 1 *# This is not a valid variable name and will raise a SyntaxError.*\n",
        "\n",
        "Q5) What is mutability in Python?\n",
        "\n",
        "Ans-> Mutable means \"changeable\". Mutability refers to the ability of an object to be changed or altered after it is created.The mutability of a data structure determines whether we can modify its contents, such as adding or removing elements, changing the values of existing elements, or reordering the elements. Lists, Dictionaries and Sets are Mutable objects.\n",
        "\n",
        "Q6) Why are lists mutable, but tuples are immutable?\n",
        "\n",
        "Ans-> Lists are mutable but to tuples are immutable because:\n",
        "\n",
        "**Lists:** List are designed to handle dynamic collections of data, so they allow modifications like adding, removing, or altering elements.\n",
        "They are often used when:\n",
        "* Storing sequences of data that may change.\n",
        "* Iterative operations that require appending or removing elements.\n",
        "\n",
        "**Tuples:**  Tupels are designed for fixed/statis collections of items to ensure consistency and improve performance, as immutability optimizes memory and execution.They are often used when:\n",
        "* The data shouldn't change during program execution.\n",
        "* The collection serves as a fixed record or key in a dictionary (e.g., coordinates, configurations, or database rows).\n",
        "\n",
        "\n"
      ],
      "metadata": {
        "id": "1qudAqwWSSF0"
      }
    },
    {
      "cell_type": "markdown",
      "source": [
        "Q7)  What is the difference between “==” and “is” operators in Python?\n",
        "\n",
        "Ans->\n",
        "\n",
        "**== (Equality Operator)**\n",
        "* The == operator checks for value equality (e.g., if two objects have the same data).\n",
        "* It evaluates whether the values of two objects are equal.\n",
        "* It does not consider whether the objects being compared are the same object in memory.\n",
        "\n",
        "For Example\n",
        "\n",
        "a = 5\n",
        "\n",
        "b = 5\n",
        "\n",
        "print(a == b)\n",
        "\n",
        "*#True, because the values are the same.*\n",
        "\n",
        "**is (Identity Operator)**\n",
        "* is operator checks for identity equality (e.g., if two objects are the same in memory).\n",
        "* It evaluates whether two variables refer to the same object in memory.\n",
        "* This is particularly useful when you need to verify if two references point to the same object.\n",
        "\n",
        "For example\n",
        "\n",
        "print(a is b)\n",
        "*False, because they are two different objects.*\n"
      ],
      "metadata": {
        "id": "XPdQgpb77HRj"
      }
    },
    {
      "cell_type": "markdown",
      "source": [
        "Q8) What are logical operators in Python?\n",
        "\n",
        "Ans-> Logical operators are used to combine conditional statements or to perform logical operations on boolean values (True or False). They are essential for constructing complex decision-making logic. Python provides three logical operators:\n",
        "* and: returns True only if both conditions are true.\n",
        "* or: returns True if at least one  condition is true.\n",
        "* not: Makes a condition the opposite of what it is.\n",
        "\n",
        "Example:\n",
        "\n",
        "x = 5\n",
        "\n",
        "y = 10\n",
        "\n",
        "print(x > 2 and x < 10)            **# True,Both conditions are True**\n",
        "\n",
        "print(x > 2 and x > 10)           **# False: The second condition is False**\n",
        "\n",
        "print(y > 10 or y < 15)           **#True: The second condition is True**\n",
        "\n",
        "print(y > 10 or y < 5)            **# False: Both conditions are False**\n",
        "\n",
        "print(not x > 5)                **# True: x > 5 is False, so not False is True**\n",
        "\n",
        "print(not x < 5)          **# False: x < 5 is True, so not True is False**\n",
        "\n"
      ],
      "metadata": {
        "id": "eEn8VXcv9tYW"
      }
    },
    {
      "cell_type": "markdown",
      "source": [
        "Q9)  What is type casting in Python?\n",
        "\n",
        "Ans-> Type casting means converting one type of data into another type. For example, changing a string to a number.\n",
        "\n",
        "It is used to ensure that data is in the correct format for specific operations. Python supports two types of type casting: implicit type casting (done automatically by Python) and explicit type casting (done manually by the programmer).\n"
      ],
      "metadata": {
        "id": "I6W_g3VDCNMZ"
      }
    },
    {
      "cell_type": "markdown",
      "source": [
        "Q10)  What is the difference between implicit and explicit type casting?\n",
        "\n",
        "Ans-> Implicit type casting(automatic type conversion) - It is a process that automatically converts a value from one data type to another converts the datatype into another datatype automatically. This is done by the compiler or interpreter and users don’t have to involve in this process.\n",
        "\n",
        "In this conversion Python promotes a smaller or simpler data type to a larger or more complex one to avoid data loss.\n",
        "\n",
        "explicit type casting(Manual type conversion) - In Explicit Type casting, users convert the data type of an object to required data type manually by using Python's built-in type conversion functions like int(), float(), str(), etc.\n",
        "\n",
        "This is visible in the source code and is done intentionally by the user.\n"
      ],
      "metadata": {
        "id": "TC0qWyTIE4VL"
      }
    },
    {
      "cell_type": "markdown",
      "source": [
        "Q11) What is the purpose of conditional statements in Python?\n",
        "\n",
        "Ans-> Conditional statements, also known as control flow statements, which allow programs to make decisions based on conditions or operatios. They allow us to execute specific blocks of code based on whether a given condition evaluates to True or False. This helps in controlling the flow of the program dynamically, making it more versatile and responsive to different inputs or scenarios.\n",
        "\n",
        "Benefits of conditional statements in Python:\n",
        "* Control the Flow: perform specific operations based on whether a condition is true or false.\n",
        "* Dynamic Behavior: can behave differently for different inputs or situations.\n",
        "* Prevent Errors: check conditions before running certain code to avoid mistakes.\n",
        "* Make code easier to read: Conditional statements can make code easier to read.\n",
        "\n",
        "Types of Conditional Statements\n",
        "* if Statement: Executes a block of code if the condition is True.\n",
        "* if-else Statement: Executes one block of code if the condition is True, and another if it is False.\n",
        "* if-elif-else Statement: Handles multiple conditions.\n",
        "* Nested if Statements: Allows checking additional conditions within an if block.\n"
      ],
      "metadata": {
        "id": "Yzg1fVADKt2x"
      }
    },
    {
      "cell_type": "markdown",
      "source": [
        "Q12 )  How does the elif statement work?\n",
        "\n",
        "Ans-> The elif statement in stands for \"else if.\" It allows  to check multiple conditions one by one after the initial if statement. If the first condition in the if is False, the program moves to the next condition in the elif. This process continues until a condition is True or all conditions are checked.\n",
        "\n",
        "**Flow of Working:**\n",
        "1.   The program first checks the condition in the if statement.\n",
        "2.   If the if condition is False, it moves to the next elif condition.\n",
        "3.   If an elif condition is True, its block of code is executed, and the rest of the conditions are skipped.\n",
        "4.  If no if or elif condition is True, the optional else block runs.\n",
        "\n",
        "\n",
        "**Syntax**\n",
        "\n",
        "if condition1:\n",
        "    # Block of code to execute if condition1 is True\n",
        "elif condition2:\n",
        "    # Block of code to execute if condition2 is True\n",
        "elif condition3:\n",
        "    # Block of code to execute if condition3 is True\n",
        "else:\n",
        "    # Block of code to execute if none of the above conditions are True\n",
        "\n"
      ],
      "metadata": {
        "id": "93J7icW_P4Gh"
      }
    },
    {
      "cell_type": "markdown",
      "source": [
        "Q13) What is the difference between for and while loops?\n",
        "\n",
        "Ans->\n",
        "\n",
        "**For loop:** Used when you know how many times you want to repeat something or want to iterate over a sequence (like a list, string, or range)..\n",
        "\n",
        "Syntax-\n",
        "\n",
        "for item in iterable:\n",
        "    # Code to execute for each item\n",
        "\n",
        "**While loop:** Used when you want to repeat until a condition is met.\n",
        "\n",
        "Syntax-\n",
        "\n",
        "while condition:\n",
        "    # Code to execute while the condition is True\n"
      ],
      "metadata": {
        "id": "wVdjJ601RbDx"
      }
    },
    {
      "cell_type": "code",
      "source": [
        "# Example Of for Loop:\n",
        "\n",
        "for i in range(5):\n",
        "\n",
        "  print(i)\n",
        "  # Prints 0, 1, 2, 3, 4"
      ],
      "metadata": {
        "colab": {
          "base_uri": "https://localhost:8080/"
        },
        "id": "U3b_sghKVD3w",
        "outputId": "486006cc-42e2-435f-ca5b-ed959b302b9e"
      },
      "execution_count": null,
      "outputs": [
        {
          "output_type": "stream",
          "name": "stdout",
          "text": [
            "0\n",
            "1\n",
            "2\n",
            "3\n",
            "4\n"
          ]
        }
      ]
    },
    {
      "cell_type": "code",
      "source": [
        "# Example of while Loop\n",
        "x = 0\n",
        "while x < 5:\n",
        "  print(x)\n",
        "  x += 1\n",
        "# Increases x until it’s 5"
      ],
      "metadata": {
        "colab": {
          "base_uri": "https://localhost:8080/"
        },
        "id": "yK7cLA6GUQfF",
        "outputId": "d724ae45-6bc0-469b-ec7e-3afa244d89ab"
      },
      "execution_count": null,
      "outputs": [
        {
          "output_type": "stream",
          "name": "stdout",
          "text": [
            "0\n",
            "1\n",
            "2\n",
            "3\n",
            "4\n"
          ]
        }
      ]
    },
    {
      "cell_type": "markdown",
      "source": [
        "Q14)  Describe a scenario where a while loop is more suitable than a for loop?\n",
        "\n",
        "Ans->  A while loop is ideal when the number of iterations isn't fixed and depends on a condition that may change dynamically during runtime.\n",
        "\n",
        "Scenario: Waiting for User Input for Password Authentication\n",
        "There is a scenario in which program  keeps asking the user for a password until they enter the correct one. In this case, programmer don't know how many attempts the user will need, so a while loop is more suitable.\n",
        "\n",
        "\n"
      ],
      "metadata": {
        "id": "OSJKu6A4SpAx"
      }
    },
    {
      "cell_type": "code",
      "source": [
        "correct_password = \"Abc@123\"\n",
        "user_input = \"\"\n",
        "\n",
        "while user_input != correct_password:\n",
        "    user_input = input(\"Enter the password: \")\n",
        "    if user_input != correct_password:\n",
        "        print(\"Incorrect password, try again.\")\n",
        "\n",
        "print(\"Access granted!\")\n"
      ],
      "metadata": {
        "colab": {
          "base_uri": "https://localhost:8080/"
        },
        "id": "uMrbSrhNq-X4",
        "outputId": "79fde495-edd7-46c4-cd53-dfae82254364"
      },
      "execution_count": null,
      "outputs": [
        {
          "output_type": "stream",
          "name": "stdout",
          "text": [
            "Enter the password: Abc@123\n",
            "Access granted!\n"
          ]
        }
      ]
    },
    {
      "cell_type": "markdown",
      "source": [
        "# Practical Questions"
      ],
      "metadata": {
        "id": "NdkmqFV4roL8"
      }
    },
    {
      "cell_type": "code",
      "source": [
        "# Q1)  Write a Python program to print \"Hello, World!\"?\n",
        "\n",
        "print(\"Hello, World!\")\n"
      ],
      "metadata": {
        "colab": {
          "base_uri": "https://localhost:8080/"
        },
        "id": "fSSaV9yTsttc",
        "outputId": "64b92a30-2924-4b5c-a74e-eef3668870b7"
      },
      "execution_count": null,
      "outputs": [
        {
          "output_type": "stream",
          "name": "stdout",
          "text": [
            "Hello, World!\n"
          ]
        }
      ]
    },
    {
      "cell_type": "code",
      "source": [
        "#   Q2) Write a Python program that displays your name and age.\n",
        "\n",
        "name = \"Ekta\"\n",
        "age = 26\n",
        "print(f\"My name is {name} and I am {age} years old.\")\n"
      ],
      "metadata": {
        "colab": {
          "base_uri": "https://localhost:8080/"
        },
        "id": "_XRxjEUqs6d2",
        "outputId": "7d419fa0-f607-4d33-e008-f85accab2ee4"
      },
      "execution_count": null,
      "outputs": [
        {
          "output_type": "stream",
          "name": "stdout",
          "text": [
            "My name is Ekta and I am 26 years old.\n"
          ]
        }
      ]
    },
    {
      "cell_type": "code",
      "source": [
        "# Q3) Write code to print all the pre-defined keywords in Python using the keyword library.\n",
        "\n",
        "import keyword\n",
        "print(\"Python Keywords:\")\n",
        "print(keyword.kwlist)\n",
        "\n",
        "\n"
      ],
      "metadata": {
        "colab": {
          "base_uri": "https://localhost:8080/"
        },
        "id": "uppPWbzatPc_",
        "outputId": "89206587-9ede-4806-9798-422660cb3a26"
      },
      "execution_count": null,
      "outputs": [
        {
          "output_type": "stream",
          "name": "stdout",
          "text": [
            "Python Keywords:\n",
            "['False', 'None', 'True', 'and', 'as', 'assert', 'async', 'await', 'break', 'class', 'continue', 'def', 'del', 'elif', 'else', 'except', 'finally', 'for', 'from', 'global', 'if', 'import', 'in', 'is', 'lambda', 'nonlocal', 'not', 'or', 'pass', 'raise', 'return', 'try', 'while', 'with', 'yield']\n"
          ]
        }
      ]
    },
    {
      "cell_type": "code",
      "source": [
        "# Q4)  Write a program that checks if a given word is a Python keyword.\n",
        "\n",
        "import keyword\n",
        "\n",
        "check_keyword = input(\"Enter a word to check if it's a Python keyword: \")\n",
        "if keyword.iskeyword(check_keyword):\n",
        "    print(f\"'{check_keyword}' is a Python keyword.\")\n",
        "else:\n",
        "    print(f\"'{check_keyword}' is not a Python keyword.\")\n"
      ],
      "metadata": {
        "colab": {
          "base_uri": "https://localhost:8080/"
        },
        "id": "H9lYQCXjtr8F",
        "outputId": "a5b178af-a58e-4618-d638-ebc4f756ea3d"
      },
      "execution_count": null,
      "outputs": [
        {
          "output_type": "stream",
          "name": "stdout",
          "text": [
            "Enter a word to check if it's a Python keyword: if\n",
            "'if' is a Python keyword.\n"
          ]
        }
      ]
    },
    {
      "cell_type": "code",
      "source": [
        "# Q5)  Create a list and tuple in Python, and demonstrate how attempting to change an element works differently.\n",
        "\n",
        "my_list = [1,2,3]\n",
        "my_tuple= (1,2,3)\n",
        "\n",
        "#  Modifying an element in the list (this is allowed)\n",
        "my_list[2] = 4 #ALLOWED, alter the value of index -2\n",
        "print(\"Modified list:\", my_list)\n",
        "\n",
        "# Attempting to modify an element in the tuple (this will cause an error)\n",
        "#my_tuple[2] = 4\n",
        "#Above operation is NOT ALLOWED and show error -'tuple' object does not support item assignment\n",
        "\n",
        "#Adding elements in the list\n",
        "my_list.append(5) # ALLOWED ,Adds to the end of the list\n",
        "print(\"List after appending elements:\", my_list)\n",
        "my_list.insert(2, 3) # ALLOWED, Inserts 3 at index 2\n",
        "print(\"List after inserting elements:\", my_list)\n",
        "\n",
        " #Attempting to add an element to the tuple (this will cause an error)\n",
        "#my_tuple.append(5)\n",
        "#Above operation is NOT ALLOWED and show error -'tuple' object does not support item append\n",
        "\n",
        "# Removing an element from the list (this is allowed)\n",
        "my_list.remove(3)  # Removes 3 from the list\n",
        "print(\"List after removing elements:\", my_list)\n",
        "\n",
        "# Attempting to remove an element from the tuple (this will cause an error)\n",
        "#my_tuple.remove(2)\n",
        "#Above operation is NOT ALLOWED and show error -'tuple' object does not support item remove\n",
        "\n"
      ],
      "metadata": {
        "colab": {
          "base_uri": "https://localhost:8080/"
        },
        "id": "6jB2hHIxYuja",
        "outputId": "59c6085b-5ec5-457f-f735-530d6fb7f364"
      },
      "execution_count": null,
      "outputs": [
        {
          "output_type": "stream",
          "name": "stdout",
          "text": [
            "Modified list: [1, 2, 4]\n",
            "List after appending elements: [1, 2, 4, 5]\n",
            "List after inserting elements: [1, 2, 3, 4, 5]\n",
            "List after removing elements: [1, 2, 4, 5]\n"
          ]
        }
      ]
    },
    {
      "cell_type": "code",
      "source": [
        "# Q6)  Write a function to demonstrate the behavior of mutable and immutable arguments.\n",
        "\n",
        "def check_mutability(mutable_arg, immutable_arg):\n",
        "    print(\"Before modification:\")\n",
        "    print(f\"Mutable: {mutable_arg}, Immutable: {immutable_arg}\")\n",
        "\n",
        "    # Modify the mutable argument\n",
        "    mutable_arg.append(4)\n",
        "\n",
        "    # Modification in the immutable argument is Not Allowed and throws error\n",
        "    #immutable_arg.append(4)\n",
        "\n",
        "    # Modify the immutable argument (this creates a new value)\n",
        "    immutable_arg = immutable_arg + 1\n",
        "\n",
        "    print(\"After modification:\")\n",
        "    print(\"Mutable:\", my_list) # List gets modified\n",
        "    print(\"Immutable:\", immutable_value) # Integer remains unchanged\n",
        "\n",
        "\n",
        "\n",
        "\n",
        "my_list = [1, 2, 3]\n",
        "my_tuple=(1,2,3)\n",
        "immutable_value = 10\n",
        "\n",
        "check_mutability(my_list, immutable_value)\n"
      ],
      "metadata": {
        "id": "BGrLf1Hffq5D",
        "colab": {
          "base_uri": "https://localhost:8080/"
        },
        "outputId": "5d393262-829f-4494-c45a-f5e18e6c90d3"
      },
      "execution_count": null,
      "outputs": [
        {
          "output_type": "stream",
          "name": "stdout",
          "text": [
            "Before modification:\n",
            "Mutable: [1, 2, 3], Immutable: 10\n",
            "After modification:\n",
            "Mutable: [1, 2, 3, 4]\n",
            "Immutable: 10\n"
          ]
        }
      ]
    },
    {
      "cell_type": "code",
      "source": [
        "# Q7)  Write a function to demonstrate the behavior of mutable and immutable arguments.\n",
        "\n",
        "#Question is repeated Same as  Q6\n",
        "def check_mutability(mutable_arg, immutable_arg):\n",
        "    print(\"Before modification:\")\n",
        "    print(f\"Mutable: {mutable_arg}, Immutable: {immutable_arg}\")\n",
        "\n",
        "    # Modify the mutable argument\n",
        "    mutable_arg.append(4)\n",
        "\n",
        "    # Modification in the immutable argument is Not Allowed and throws error\n",
        "    #immutable_arg.append(4)\n",
        "\n",
        "    # Modify the immutable argument (this creates a new value)\n",
        "    immutable_arg = immutable_arg + 1\n",
        "\n",
        "    print(\"After modification:\")\n",
        "    print(\"Mutable:\", my_list) # List gets modified\n",
        "    print(\"Immutable:\", immutable_value) # Integer remains unchanged\n",
        "\n",
        "\n",
        "\n",
        "\n",
        "my_list = [1, 2, 3]\n",
        "my_tuple=(1,2,3)\n",
        "immutable_value = 10\n",
        "\n",
        "check_mutability(my_list, immutable_value)\n"
      ],
      "metadata": {
        "id": "0EUGUPI4f1nz",
        "colab": {
          "base_uri": "https://localhost:8080/"
        },
        "outputId": "89223c02-3fc6-4c28-a88e-c6bef40de778"
      },
      "execution_count": null,
      "outputs": [
        {
          "output_type": "stream",
          "name": "stdout",
          "text": [
            "Before modification:\n",
            "Mutable: [1, 2, 3], Immutable: 10\n",
            "After modification:\n",
            "Mutable: [1, 2, 3, 4]\n",
            "Immutable: 10\n"
          ]
        }
      ]
    },
    {
      "cell_type": "code",
      "source": [
        "# Q8)  Write a program to demonstrate the use of logical operators.\n",
        "\n",
        "# Logical operators\n",
        "\n",
        "a = 10\n",
        "b = 5\n",
        "c = 0\n",
        "\n",
        "# Using 'and' operator\n",
        "print(\"Using 'and' operator:\")\n",
        "print(f\"a > b and b > c: {a > b and b > c}\")  # True, because both conditions are true\n",
        "print(f\"a < b and b > c: {a < b and b > c}\")  # False, because the first condition is false\n",
        "\n",
        "# Using 'or' operator\n",
        "print(\"Using 'or' operator:\")\n",
        "print(f\"a > b or b > c: {a > b or b > c}\")  # True, because the first condition is true\n",
        "print(f\"a < b or b < c: {a < b or b < c}\")  # False, because both conditions are false\n",
        "\n",
        "# Using 'not' operator\n",
        "print(\"Using 'not' operator:\")\n",
        "print(f\"not(a > b): {not(a > b)}\")  # False, because a > b is true, so not makes it false\n",
        "print(f\"not(a < b): {not(a < b)}\")  # True, because a < b is false, so not makes it true\n"
      ],
      "metadata": {
        "colab": {
          "base_uri": "https://localhost:8080/"
        },
        "id": "5_Cy5E4oVCUN",
        "outputId": "2d586bd2-d2ae-445f-c515-53fd31201d57"
      },
      "execution_count": null,
      "outputs": [
        {
          "output_type": "stream",
          "name": "stdout",
          "text": [
            "Using 'and' operator:\n",
            "a > b and b > c: True\n",
            "a < b and b > c: False\n",
            "Using 'or' operator:\n",
            "a > b or b > c: True\n",
            "a < b or b < c: False\n",
            "Using 'not' operator:\n",
            "not(a > b): False\n",
            "not(a < b): True\n"
          ]
        }
      ]
    },
    {
      "cell_type": "code",
      "source": [
        "# Q9) Write a Python program to convert user input from string to integer, float, and boolean types.\n",
        "\n",
        "user_input = input(\"Enter a value: \")\n",
        "integer_val = int(user_input) #converts in integer\n",
        "float_val = float(user_input) #converts in float\n",
        "boolean_val = bool(user_input) #converts in boolean\n",
        "\n",
        "print(f\"Integer Value: {integer_val}\")\n",
        "print(f\"Float Value: {float_val}\")\n",
        "print(f\"Boolean Value: {boolean_val}\")\n"
      ],
      "metadata": {
        "colab": {
          "base_uri": "https://localhost:8080/"
        },
        "id": "vDoEdfVrSZOP",
        "outputId": "281ddf7a-e04a-46b7-c3c0-6fe163637ef2"
      },
      "execution_count": null,
      "outputs": [
        {
          "output_type": "stream",
          "name": "stdout",
          "text": [
            "Enter a value: -2\n",
            "Integer Value: -2\n",
            "Float Value: -2.0\n",
            "Boolean Value: True\n"
          ]
        }
      ]
    },
    {
      "cell_type": "code",
      "source": [
        "# Q10)  Write code to demonstrate type casting with list elements.\n",
        "\n",
        "original_list = [1, '2', 3.0, 4.5 , True]\n",
        "\n",
        "# Type casting elements in the list\n",
        "int_list = list(map(int, original_list))\n",
        "float_list = list(map(float, original_list))\n",
        "str_list = list(map(str, original_list))\n",
        "\n",
        "print(\"Original List:\", original_list)\n",
        "print(\"List with integers:\", int_list)\n",
        "print(\"List with floats:\", float_list)\n",
        "print(\"List with strings:\", str_list)\n"
      ],
      "metadata": {
        "colab": {
          "base_uri": "https://localhost:8080/"
        },
        "id": "qdCJiD9YP0Mk",
        "outputId": "f81716e8-6cf3-42a8-c4d3-03e66987b08d"
      },
      "execution_count": null,
      "outputs": [
        {
          "output_type": "stream",
          "name": "stdout",
          "text": [
            "Original List: [1, '2', 3.0, 4.5, True]\n",
            "List with integers: [1, 2, 3, 4, 1]\n",
            "List with floats: [1.0, 2.0, 3.0, 4.5, 1.0]\n",
            "List with strings: ['1', '2', '3.0', '4.5', 'True']\n"
          ]
        }
      ]
    },
    {
      "cell_type": "code",
      "source": [
        "# Q11) Write a program that checks if a number is positive, negative, or zero.\n",
        "\n",
        "num = float(input(\"Plese enter any number: \"))\n",
        "if num > 0:\n",
        "   print(\"Positive.\")\n",
        "elif num == 0:\n",
        "   print(\"Zero\")\n",
        "else:\n",
        "   print(\"Negative.\")\n"
      ],
      "metadata": {
        "colab": {
          "base_uri": "https://localhost:8080/"
        },
        "id": "-jLGQYwkxaaX",
        "outputId": "e44f6b68-c158-4261-ba3e-f104f9685cfd"
      },
      "execution_count": null,
      "outputs": [
        {
          "output_type": "stream",
          "name": "stdout",
          "text": [
            "Plese enter any number: 5\n",
            "Positive.\n"
          ]
        }
      ]
    },
    {
      "cell_type": "code",
      "source": [
        "# Q12) Write a for loop to print numbers from 1 to 10.\n",
        "\n",
        "print(\"Printing numbers 1 to 10 below :\")\n",
        "for i in range(1, 11):\n",
        "    print(i)\n"
      ],
      "metadata": {
        "colab": {
          "base_uri": "https://localhost:8080/"
        },
        "id": "XWF2m6qpuA5M",
        "outputId": "b19d8a4d-c710-4f41-b938-c3ecdd09775f"
      },
      "execution_count": null,
      "outputs": [
        {
          "output_type": "stream",
          "name": "stdout",
          "text": [
            "Printing numbers 1 to 10 below :\n",
            "1\n",
            "2\n",
            "3\n",
            "4\n",
            "5\n",
            "6\n",
            "7\n",
            "8\n",
            "9\n",
            "10\n"
          ]
        }
      ]
    },
    {
      "cell_type": "code",
      "source": [
        "# Q13)  Write a Python program to find the sum of all even numbers between 1 and 50.\n",
        "\n",
        "sum = 0\n",
        "for num in range(1, 51):\n",
        "    if num % 2 == 0:\n",
        "        sum += num\n",
        "\n",
        "print(\"The sum of all even numbers between 1 and 50 is:\", sum)\n"
      ],
      "metadata": {
        "colab": {
          "base_uri": "https://localhost:8080/"
        },
        "id": "4AuzGqEe0VgK",
        "outputId": "6be10974-8f38-4ca5-e7ab-f886f07da8ea"
      },
      "execution_count": null,
      "outputs": [
        {
          "output_type": "stream",
          "name": "stdout",
          "text": [
            "The sum of all even numbers between 1 and 50 is: 650\n"
          ]
        }
      ]
    },
    {
      "cell_type": "code",
      "source": [
        "# Q14) Write a program to reverse a string using a while loop.\n",
        "\n",
        "original_str = input(\"Enter a string: \")\n",
        "reverse_str =\"\"\n",
        "count = len(original_str) - 1\n",
        "while count >= 0:\n",
        "    reverse_str += original_str[ count]\n",
        "    count = count - 1\n",
        "print (\"Original string  : \",original_str)\n",
        "print (\"Reversed string : \",reverse_str)\n",
        "\n"
      ],
      "metadata": {
        "colab": {
          "base_uri": "https://localhost:8080/"
        },
        "id": "kX84LJ-X6uul",
        "outputId": "68dc3aa7-3734-4d92-c8c7-a2f0bd40acc6"
      },
      "execution_count": null,
      "outputs": [
        {
          "output_type": "stream",
          "name": "stdout",
          "text": [
            "Enter a string: String12\n",
            "Original string  :  String12\n",
            "Reversed string :  21gnirtS\n"
          ]
        }
      ]
    },
    {
      "cell_type": "code",
      "source": [
        "# Q15) Write a Python program to calculate the factorial of a number provided by the user using a while loop.\n",
        "\n",
        "num = int(input(\"Enter a number to calculate its factorial: \"))\n",
        "if num < 0:\n",
        "    print(\"Factorial is not defined for negative numbers.\")\n",
        "else:\n",
        "    fact = 1\n",
        "    i = 1\n",
        "    while i <= num:\n",
        "        fact = fact * i\n",
        "        i += 1\n",
        "    print(f\"Factorial of {num} is {fact}.\")\n",
        "\n"
      ],
      "metadata": {
        "colab": {
          "base_uri": "https://localhost:8080/"
        },
        "id": "ngFmZdPo0zkK",
        "outputId": "b811fc3e-e3f1-4164-ba37-dd7c512764fe"
      },
      "execution_count": null,
      "outputs": [
        {
          "output_type": "stream",
          "name": "stdout",
          "text": [
            "Enter a number to calculate its factorial: 5\n",
            "Factorial of 5 is 120.\n"
          ]
        }
      ]
    }
  ]
}