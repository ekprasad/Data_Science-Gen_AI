{
  "nbformat": 4,
  "nbformat_minor": 0,
  "metadata": {
    "colab": {
      "provenance": []
    },
    "kernelspec": {
      "name": "python3",
      "display_name": "Python 3"
    },
    "language_info": {
      "name": "python"
    }
  },
  "cells": [
    {
      "cell_type": "markdown",
      "source": [
        "# DATA TYPES AND STRUCTURE"
      ],
      "metadata": {
        "id": "juFW8k0GpuWR"
      }
    },
    {
      "cell_type": "markdown",
      "source": [
        "# Theoretical Questions"
      ],
      "metadata": {
        "id": "Avz1p83gXSZM"
      }
    },
    {
      "cell_type": "markdown",
      "source": [
        "Q1)  What are data structures, and why are they important?\n",
        "\n",
        "Ans: Data structures are specialized ways of organizing, managing, accessing and storing data in a computer so it can be used efficiently.They define the relationship between data and the operations that can be performed on it.\n",
        "\n",
        "Data Structure are of two types:\n",
        "* built-in types like lists, tuples, sets, and dictionaries\n",
        "* custom types like linked lists and trees.\n",
        "\n",
        "Importance of Data Structure :\n",
        "\n",
        "Efficiency: Choosing the ringt Data Structure Improves performance of operations like searching, sorting, and updating data. For example, searching for an element in a set is faster than in a list.\n",
        "\n",
        "Organization: Helps structure data logically, making programs easier to understand.\n",
        "\n",
        "Problem-Solving: Different tasks need different data structures, like stacks for undo operations or queues for task scheduling.\n",
        "\n",
        "Flexibility: Python’s built-in structures allow rapid development.\n",
        "\n",
        "Scalability: Ensures programs can handle larger datasets effectively.\n",
        "\n",
        "Q2) Explain the difference between mutable and immutable data types with examples.\n",
        "\n",
        "Ans: Mutable means \"changeable\". Mutability refers to the ability of an object to be changed or altered after it is created.\n",
        "\n",
        " Mutable: These data types cannot be modified after creation. Any operation that appears to modify the object creates a new object in memory instead.. Lists, Dictionaries and Sets are Mutable objects.\n",
        "\n",
        " For example:\n",
        "\n",
        "    my_list = [1, 2, 3]\n",
        "    my_list.append(4)  # Modifies the existing list\n",
        "    print(my_list)  # Output: [1, 2, 3, 4]\n",
        "\n",
        "Immutable: These types cannot be changed after creation. For example, tuples, strings, and integers.Any operation that appears to modify the object creates a new object in memory instead.Strings, tuples, integers, and floats are Immutable objects.\n",
        "\n",
        "For example:\n",
        "\n",
        "    my_string = \"hello\"\n",
        "    my_string = my_string + \" world\"  # Creates a new string object\n",
        "    print(my_string)  # Output: \"hello world\"\n",
        "\n",
        "    \n",
        "Q3)  What are the main differences between lists and tuples in Python?\n",
        "\n",
        "Ans: Lists and Tuples both are used to store collections of items, but the main difference between lists and tuples IS mutability. A list is mutable, meaning its elements can be modified after creation, while a tuple is immutable, meaning its elements cannot be changed once the tuple is created.\n",
        "\n",
        "**Key difrencess:**\n",
        "\n",
        "List:\n",
        "\n",
        "* Mutable(Can be modified after creation.)\n",
        "* Defined with square brackets [].\n",
        "* Slower & require more memory than tuples due to mutability.\n",
        "* Used when the data needs to change.\n",
        "* syntax-[1, 2, 3]\n",
        "\n",
        "For example:\n",
        "\n",
        "    my_list = [1, 2, 3]\n",
        "    my_list.append(4)  # Modifies the existing list\n",
        "    print(my_list)  # Output: [1, 2, 3, 4]\n",
        "\n",
        "Tuples:\n",
        "\n",
        "* Immutable(Cannot be modified after creation.)\n",
        "* Defined with parentheses ().\n",
        "* Faster & require less memory than lists due to immutability.\n",
        "* Used for fixed or constant data.\n",
        "\n",
        "For Example:\n",
        "\n",
        "    my_tuple = (1, 2, 3)\n",
        "    # my_tuple[0] = 4  # This would raise a TypeError as tuples are immutable\n",
        "    print(my_tuple)  # Output: (1, 2, 3)\n",
        "\n",
        "\n",
        "Q4)  Describe how dictionaries store data.\n",
        "\n",
        "Ans: Dictionaries store data as key-value pairs using a hash table internally.\n",
        "Keys are like labels which must be unique and unchangeable, and values which  values can be of any data type are the data associated with those keys. Dictionaries are useful for storing data that needs to be accessed quickly and efficiently.\n",
        "\n",
        "For Example:\n",
        "\n",
        "    my_dict = {\"name\": \"Ekta\", \"age\": 25, \"city\": \"New Delhi\"}\n",
        "\n",
        "Q5) Why might you use a set instead of a list in Python?\n",
        "\n",
        "Ans: set is used instead of a list in when we need to store a collection of unique items and perform operations like membership testing, union, intersection, or difference efficiently.\n",
        "\n",
        "**Key Reasons to Use a Set Over a List:**\n",
        "\n",
        "* Automatically removes duplicate values and store tore unique values.\n",
        "* Faster membership testing is required compared to lists.\n",
        "* Sets can be more memory-efficient when working with large collections of unique data.\n",
        "* Use sets when the order of elements is irrelevant.\n",
        "* To perform mathematical operations because sets support operations like   union, intersection, and difference.\n",
        "Faster Membership Testing:\n",
        "\n",
        "For example:\n",
        "\n",
        "    my_set = {1, 2, 3, 3}  # Output: {1, 2, 3}\n",
        "    my_list = [1, 2, 3, 3]  # Output: [1, 2, 3, 3]\n",
        "\n",
        "Q6)  What is a string in Python, and how is it different from a list?\n",
        "\n",
        "Ans: A string in Python is a sequence of characters enclosed in single ('), double (\"), or triple quotes (''' or \"\"\"`). Strings are immutable, meaning they cannot be changed after creation.\n",
        "\n",
        "For Example:\n",
        "\n",
        "    my_string = \"hello\"\n",
        "Strings: A sequence of characters that is immutable (can’t change) and used for text processing.\n",
        "Lists: Data structure that is used to store a collection of items in a single variable. Lists are ordered, heterogeneous, and mutable (Can Change).\n",
        "   \n",
        "    # my_string[0] = \"H\"  # Error! Strings can't be modified.\n",
        "    my_list = [\"h\", \"e\", \"l\", \"l\", \"o\"]\n",
        "    my_list[0] = \"H\"  # Works fine\n",
        "    print(my_list)  # Output: ['H', 'e', 'l', 'l', 'o']\n",
        "\n",
        "Q7) How do tuples ensure data integrity in Python?\n",
        "\n",
        "Ans: Tuples in Python ensure data integrity through their **immutability**, meaning their elements cannot be changed after creation. This prevents accidental modifications and ensures consistency. Tuples are also **hashable** (if they contain only immutable elements), making them suitable as keys in dictionaries and elements in sets. Their immutability protects data in multi-threaded environments and signals intentional use for fixed, unchangeable data. These properties make tuples ideal for storing constant, reliable collections of related data.\n",
        "\n",
        "Q8) What is a hash table, and how does it relate to dictionaries in Python?\n",
        "\n",
        "Ans: A hash table is a data structure that maps keys to values using a hash function to compute an index, enabling fast lookups, insertions, and deletions.\n",
        "\n",
        "In Python, dictionaries are implemented using hash tables. Each key in a dictionary is hashed to determine its storage location, allowing for efficient key-value pair operations which makes dictionaries ideal for scenarios requiring quick data retrieval.\n",
        "\n",
        "Q9) Can lists contain different data types in Python?\n",
        "\n",
        "Ans: Yes, Lists contain Heterogeneous data types means can store elements of different data types, such as integers, strings, and other lists.\n",
        "\n",
        "For Example :\n",
        "\n",
        "    my_list = [1, \"hello\", [2, 3]]\n",
        "    print(my_list)  # Output: [1, 'hello', [2, 3]]\n",
        "\n",
        "Q10) Explain why strings are immutable in Python.\n",
        "\n",
        "Ans: Strings are immutable for performance and security reasons. This allows strings to be :\n",
        "* safer to shared string data without worrying about changes.\n",
        "* to work as keys in dictionaries.\n",
        "\n",
        "Q11)What advantages do dictionaries offer over lists for certain tasks?\n",
        "\n",
        "Ans: Dictionaries provide faster access compared to lists because data is accessed using unique keys rather than positions. They are ideal for representing structured data\n",
        "\n",
        "Dictionaries are better than lists when requirements are:\n",
        "\n",
        "1. **Faster lookups**: Access data quickly using keys (O(1) time complexity).\n",
        "2. **Key-value associations**: Store data with a unique key for easy retrieval.\n",
        "3. **No duplicates**: Keys in dictionaries are unique, preventing accidental duplicates.\n",
        "4. **Easy updates**: update values directly using keys.\n",
        "\n",
        "Dictionaries are preferable when we need fast access, key-value associations, and unique keys.In contrast, lists are better for maintaining ordered collectionsof items without the need for key-based access.\n",
        "\n",
        "Q12) Describe a scenario where using a tuple would be preferable over a list.\n",
        "\n",
        "Ans: Tuples are preferred over lists when the data is fixed and must not change and need faster performance.\n",
        "\n",
        "**A real-life scenario where using a tuple is preferable over a list is when storing a person's birth date or UID No etc.**\n",
        "\n",
        "    FOR EXAMPLE - BIRTH DATE  \n",
        "    birth_date = (15, 6, 1995)  # Day, Month, Year\n",
        "\n",
        "\n",
        "Q13) How do sets handle duplicate values in Python?\n",
        "\n",
        "Ans: Sets automatically remove duplicate values. This is because sets are unordered collections that store only unique elements.\n",
        "\n",
        "So, Whenever we try to add a duplicate value to a set, it is ignored and only keeps one instance of each element, ensuring uniqueness.\n",
        "\n",
        "For example:\n",
        "\n",
        "    my_set = {1, 2, 2, 3}\n",
        "    print(my_set)  # Output: {1, 2, 3}\n",
        "\n",
        "\n",
        "Q14) How does the “in” keyword work differently for lists and dictionaries?\n",
        "\n",
        "Ans: \"in\" Keyword in Lists vs Dictionaries\n",
        "For lists, the in keyword checks for the existence of a value.\n",
        "    example- print(2 in [1, 2, 3])  # Output: True\n",
        "\n",
        "For dictionaries, it checks for the existence of a key.\n",
        "    example-print(\"name\" in {\"name\": \"Alice\"})  # Output: True\n",
        "\n",
        "Q15) Can you modify the elements of a tuple? Explain why or why not.\n",
        "\n",
        "Ans: No, elements of a tuple cannot be modified because tuples are immutable. Once a tuple is created, its elements cannot be changed, added, or removed. This immutability ensures that the data remains constant and prevents accidental modifications.\n",
        "\n",
        "For example:\n",
        "    my_tuple = (1, 2, 3)\n",
        "    # my_tuple[0] = 10  # This will raise an error\n",
        "\n",
        "Q16) What is a nested dictionary, and give an example of its use case?\n",
        "\n",
        "Ans:A nested dictionary is a dictionary within another dictionary, useful for representing hierarchical or multi-level data structures like a database.\n",
        "\n",
        "**Example Use Case:**\n",
        "used to store information about students and their subjects.\n",
        "\n",
        "    students = {\n",
        "    \"A\": {\"Math\": 85, \"Science\": 90},\n",
        "    \"B\": {\"Math\": 78, \"Science\": 82},\n",
        "    \"C\": {\"Math\": 92, \"Science\": 88}}\n",
        "    print(students[\"A\"][\"Math\"])  # Output: 85\n",
        "\n",
        "Q17)Describe the time complexity of accessing elements in a dictionary.\n",
        "\n",
        "Ans:Dictionaries provide constant time complexity, O(1), for data retrieval using keys, making them efficient for large datasets.\n",
        "\n",
        "Q18)In what situations are lists preferred over dictionarie?\n",
        "\n",
        "Ans: Lists are preferred over dictionaries in situations where:\n",
        "\n",
        "1. **Ordered Data**: When the order of elements matters, such as maintaining a sequence of items.\n",
        "2. **Index-based Access**: When it is needed to access elements by their position (index) rather than by a unique key.\n",
        "3. **Simple Collections**: When dealing with collections of homogeneous data where no key-value mapping is needed.\n",
        "4. **Efficient Iteration**: When iterating through a series of elements without needing to associate them with keys.\n",
        "\n",
        "Lists are ideal when order and indexed access are important, whereas dictionaries are better for key-based lookups and mapping data.\n",
        "\n",
        "Q19)Why are dictionaries considered unordered, and how does that affect data retrieval?\n",
        "\n",
        "Ans: Unordered means Elements are not stored in a specific order.\n",
        "\n",
        "A dictionary is termed an unordered collection of objects because dictionaries do not maintain any inherent order/keep track of the items based on when they were added.This meant data retrieval was based on the key only, not insertion order.\n",
        "\n",
        "How it affects data retrieval:\n",
        "\n",
        "Before Python 3.7:\n",
        "* No guarantee of the order in which key-value pairs are stored or retrieved.\n",
        "* Retrieval was based solely on the key, not the order of insertion.\n",
        "\n",
        "From Python 3.7 onwards:\n",
        "* Dictionaries maintain insertion order, allowing predictable iteration over items in the order they were added.\n",
        "* Key-based lookups remain unaffected, as they are independent of order.\n",
        "\n",
        "Q20)Explain the difference between a list and a dictionary in terms of data retrieval.\n",
        "\n",
        "Ans: The key difference between a list and a dictionary in terms of data retrieval is:\n",
        "\n",
        "**Lists** : retrieve elements using their index positions for searching specific values.\n",
        "\n",
        "**Dictionaries** : retrieve elements using keys, which is faster and more descriptive when keys are known.\n",
        "\n",
        "Dictionaries are better for key-based lookups, while lists are suited for sequential or indexed data.\n",
        "\n",
        "For example:\n",
        "\n",
        "    my_list = [10, 20]\n",
        "    my_dict = {\"a\": 10, \"b\": 20}\n",
        "\n",
        "    print(my_list[0])  # Access by position\n",
        "    print(my_dict[\"a\"])  # Access by key"
      ],
      "metadata": {
        "id": "tsJyJ13iDYj1"
      }
    },
    {
      "cell_type": "markdown",
      "source": [
        "# Practical Questions"
      ],
      "metadata": {
        "id": "56rC62CtMHtF"
      }
    },
    {
      "cell_type": "code",
      "source": [
        "# Q1) Write a code to create a string with your name and print it\n",
        "\n",
        "name = \"Ekta\"\n",
        "print(name)\n"
      ],
      "metadata": {
        "colab": {
          "base_uri": "https://localhost:8080/"
        },
        "id": "hBDy9ZS_MFTg",
        "outputId": "2a2f76c5-432e-4277-8c0b-2876b3749eda"
      },
      "execution_count": null,
      "outputs": [
        {
          "output_type": "stream",
          "name": "stdout",
          "text": [
            "Ekta\n"
          ]
        }
      ]
    },
    {
      "cell_type": "code",
      "source": [
        "# Q2) Write a code to find the length of the string \"Hello World\".\n",
        "\n",
        "my_string = \"Hello World\"\n",
        "print(\"Length of the String is : \" ,len(my_string)) # use of len()\n"
      ],
      "metadata": {
        "colab": {
          "base_uri": "https://localhost:8080/"
        },
        "id": "yB9CtBSmMoQg",
        "outputId": "618e21b0-5060-46ee-e3a2-c032f5988a61"
      },
      "execution_count": null,
      "outputs": [
        {
          "output_type": "stream",
          "name": "stdout",
          "text": [
            "Length of the String is :  11\n"
          ]
        }
      ]
    },
    {
      "cell_type": "code",
      "source": [
        "# Q3) Slice the first 3 characters from the string \"Python Programming\".\n",
        "\n",
        "my_string = \"Python Programming\"\n",
        "print(my_string[:3])"
      ],
      "metadata": {
        "colab": {
          "base_uri": "https://localhost:8080/"
        },
        "id": "17tK9xraM9th",
        "outputId": "d61fd245-32b7-459d-ca8f-3bd93f9f40b7"
      },
      "execution_count": null,
      "outputs": [
        {
          "output_type": "stream",
          "name": "stdout",
          "text": [
            "Pyt\n"
          ]
        }
      ]
    },
    {
      "cell_type": "code",
      "source": [
        "# Q4)  Write a code to convert the string \"hello\" to uppercase.\n",
        "\n",
        "my_string = \"hello\"\n",
        "print(\"Original String : \",my_string)\n",
        "print(\"Uppecase String : \",my_string.upper()) #use of upper()"
      ],
      "metadata": {
        "colab": {
          "base_uri": "https://localhost:8080/"
        },
        "id": "jRtewey7NOua",
        "outputId": "4aabeaeb-f649-4d5a-d4e7-489c8d285581"
      },
      "execution_count": null,
      "outputs": [
        {
          "output_type": "stream",
          "name": "stdout",
          "text": [
            "Original String :  hello\n",
            "Uppecase String :  HELLO\n"
          ]
        }
      ]
    },
    {
      "cell_type": "code",
      "source": [
        "# Q5) Write a code to replace the word \"apple\" with \"orange\" in the string \"I like apple\".\n",
        "\n",
        "my_string = \"I like apple\"\n",
        "print(my_string.replace(\"apple\", \"orange\")) #use replace()"
      ],
      "metadata": {
        "colab": {
          "base_uri": "https://localhost:8080/"
        },
        "id": "KpWdQk-oNwjK",
        "outputId": "376197f4-b0f6-4b95-cc6a-a8ef9f833c3d"
      },
      "execution_count": null,
      "outputs": [
        {
          "output_type": "stream",
          "name": "stdout",
          "text": [
            "I like orange\n"
          ]
        }
      ]
    },
    {
      "cell_type": "code",
      "source": [
        "# Q6) Create a list with numbers 1 to 5 and print it.\n",
        "\n",
        "my_list = [1, 2, 3, 4, 5]\n",
        "print(\"List with numbers 1 to 5:\")\n",
        "print(my_list)"
      ],
      "metadata": {
        "colab": {
          "base_uri": "https://localhost:8080/"
        },
        "id": "nRzNZMTpOCZt",
        "outputId": "14c2c965-f922-4ccf-abe7-164da26da485"
      },
      "execution_count": null,
      "outputs": [
        {
          "output_type": "stream",
          "name": "stdout",
          "text": [
            "List with numbers 1 to 5:\n",
            "[1, 2, 3, 4, 5]\n"
          ]
        }
      ]
    },
    {
      "cell_type": "code",
      "source": [
        "# Q7) Write a code to append the number 10 to the list [1, 2, 3, 4]\n",
        "\n",
        "my_list = [1, 2, 3, 4]\n",
        "print(f\"List before appending : {my_list}\")\n",
        "my_list.append(10)\n",
        "print(f\"List after appending : {my_list}\") # use append()"
      ],
      "metadata": {
        "colab": {
          "base_uri": "https://localhost:8080/"
        },
        "id": "eWkYbrmAOWi9",
        "outputId": "b4750fa9-9b70-482b-b46f-e6fe926012c5"
      },
      "execution_count": null,
      "outputs": [
        {
          "output_type": "stream",
          "name": "stdout",
          "text": [
            "List before appending : [1, 2, 3, 4]\n",
            "List after appending : [1, 2, 3, 4, 10]\n"
          ]
        }
      ]
    },
    {
      "cell_type": "code",
      "source": [
        "# Q8) Write a code to remove the number 3 from the list [1, 2, 3, 4, 5]\n",
        "\n",
        "my_list = [1, 2, 3, 4, 5]\n",
        "my_list.remove(3)\n",
        "print(f\"List after removing 3 : {my_list}\") #use remove()"
      ],
      "metadata": {
        "colab": {
          "base_uri": "https://localhost:8080/"
        },
        "id": "3jIFEnu7PIOi",
        "outputId": "601d619f-89a5-447d-b09b-72a4297fb29a"
      },
      "execution_count": null,
      "outputs": [
        {
          "output_type": "stream",
          "name": "stdout",
          "text": [
            "List after removing 3 : [1, 2, 4, 5]\n"
          ]
        }
      ]
    },
    {
      "cell_type": "code",
      "source": [
        "# Q9) Write a code to access the second element in the list ['a', 'b', 'c', 'd']\n",
        "my_list = ['a', 'b', 'c', 'd']\n",
        "print(\"The second element in the list is : \",my_list[1]) #index starts with 0"
      ],
      "metadata": {
        "colab": {
          "base_uri": "https://localhost:8080/"
        },
        "id": "UDBJA4niPjoj",
        "outputId": "7e16bfab-e64b-40e3-f8d4-7fa1a6c43a0b"
      },
      "execution_count": null,
      "outputs": [
        {
          "output_type": "stream",
          "name": "stdout",
          "text": [
            "The second element in the list is :  b\n"
          ]
        }
      ]
    },
    {
      "cell_type": "code",
      "source": [
        "# Q10) Write a code to reverse the list [10, 20, 30, 40, 50].\n",
        "\n",
        "my_list = [10, 20, 30, 40, 50]\n",
        "print(f\"Oringial List : {my_list}\")\n",
        "my_list.reverse()\n",
        "print(f\"Reversed List : {my_list}\") #use reverse()"
      ],
      "metadata": {
        "colab": {
          "base_uri": "https://localhost:8080/"
        },
        "id": "xXsxqcFFPqhv",
        "outputId": "774ab05c-73b5-4449-b94b-20d6693e898b"
      },
      "execution_count": null,
      "outputs": [
        {
          "output_type": "stream",
          "name": "stdout",
          "text": [
            "Oringial List : [10, 20, 30, 40, 50]\n",
            "Reversed List : [50, 40, 30, 20, 10]\n"
          ]
        }
      ]
    },
    {
      "cell_type": "code",
      "source": [
        "# 11. Write a code to create a tuple with the elements 10, 20, 30 and print it\n",
        "my_tuple = (10, 20, 30)\n",
        "print(\"Tuple is :\", my_tuple)"
      ],
      "metadata": {
        "colab": {
          "base_uri": "https://localhost:8080/"
        },
        "id": "RqPEJQ_9QjmK",
        "outputId": "b65f2f56-5d82-40e8-cdf6-717cc31c431d"
      },
      "execution_count": null,
      "outputs": [
        {
          "output_type": "stream",
          "name": "stdout",
          "text": [
            "Tuple is : (10, 20, 30)\n"
          ]
        }
      ]
    },
    {
      "cell_type": "code",
      "source": [
        "# 12. Write a code to access the first element of the tuple ('apple', 'banana', 'cherry').\n",
        "my_tuple = ('apple', 'banana', 'cherry')\n",
        "print(\"first element of the tuple is :\",my_tuple[0])"
      ],
      "metadata": {
        "colab": {
          "base_uri": "https://localhost:8080/"
        },
        "id": "f7_INfHGREx0",
        "outputId": "17d80783-5c3a-40c4-d03e-3ed6e2b9c166"
      },
      "execution_count": null,
      "outputs": [
        {
          "output_type": "stream",
          "name": "stdout",
          "text": [
            "first element of the tuple is : apple\n"
          ]
        }
      ]
    },
    {
      "cell_type": "code",
      "source": [
        "# 13. Write a code to count how many times the number 2 appears in the tuple (1, 2, 3, 2, 4, 2).\n",
        "my_tuple = (1, 2, 3, 2, 4, 2)\n",
        "print(f\"The count of '2' in {my_tuple} is :\",my_tuple.count(2)) # use of count()"
      ],
      "metadata": {
        "colab": {
          "base_uri": "https://localhost:8080/"
        },
        "id": "UNJiuZ4NRdoZ",
        "outputId": "49fdb9f7-5e72-42b4-9b68-ea31017a3b7e"
      },
      "execution_count": null,
      "outputs": [
        {
          "output_type": "stream",
          "name": "stdout",
          "text": [
            "The count of '2' in (1, 2, 3, 2, 4, 2) is : 3\n"
          ]
        }
      ]
    },
    {
      "cell_type": "code",
      "source": [
        "#14. Write a code to find the index of the element \"cat\" in the tuple ('dog', 'cat', 'rabbit')\n",
        "my_tuple = ('dog', 'cat', 'rabbit')\n",
        "element = 'cat'\n",
        "print( f\"The index of the element {element} in {my_tuple} is\", my_tuple.index(element)) # use index()"
      ],
      "metadata": {
        "colab": {
          "base_uri": "https://localhost:8080/"
        },
        "id": "r5tQLLiVSSO5",
        "outputId": "2b2084f7-c6b3-4327-9b58-4995bf3de5ac"
      },
      "execution_count": null,
      "outputs": [
        {
          "output_type": "stream",
          "name": "stdout",
          "text": [
            "The index of the element cat in ('dog', 'cat', 'rabbit') is 1\n"
          ]
        }
      ]
    },
    {
      "cell_type": "code",
      "source": [
        " #15. Write a code to check if the element \"banana\" is in the tuple ('apple', 'orange', 'banana').\n",
        "my_tuple = ('apple', 'orange', 'banana')\n",
        "print('banana' in my_tuple) # in operator Checks if \"banana\" is in the tuple"
      ],
      "metadata": {
        "colab": {
          "base_uri": "https://localhost:8080/"
        },
        "id": "2S_NCAFyTde3",
        "outputId": "b849eccf-3b53-4883-9983-5fcf2269f237"
      },
      "execution_count": null,
      "outputs": [
        {
          "output_type": "stream",
          "name": "stdout",
          "text": [
            "True\n"
          ]
        }
      ]
    },
    {
      "cell_type": "code",
      "source": [
        " #16. Write a code to create a set with the elements 1, 2, 3, 4, 5 and print it.\n",
        "my_set = {1, 2, 3, 4, 5}\n",
        "print(\"The set with numbers 1 to 5:\")\n",
        "print(my_set)"
      ],
      "metadata": {
        "colab": {
          "base_uri": "https://localhost:8080/"
        },
        "id": "hOoeayDdTK7d",
        "outputId": "6e28e186-e04a-4a1f-f38b-64480675740b"
      },
      "execution_count": null,
      "outputs": [
        {
          "output_type": "stream",
          "name": "stdout",
          "text": [
            "The set with numbers 1 to 5:\n",
            "{1, 2, 3, 4, 5}\n"
          ]
        }
      ]
    },
    {
      "cell_type": "code",
      "source": [
        "#17. Write a code to add the element 6 to the set {1, 2, 3, 4}.\n",
        "my_set = {1, 2, 3, 4}\n",
        "print(\"Original set :\",my_set)\n",
        "\n",
        "# Add the element 6 to the set\n",
        "my_set.add(6)\n",
        "print(\"Updated set after adding :\",my_set)"
      ],
      "metadata": {
        "colab": {
          "base_uri": "https://localhost:8080/"
        },
        "id": "nWbaDYiPUUUv",
        "outputId": "ef1f155f-c141-4729-d600-03b29e39acf0"
      },
      "execution_count": null,
      "outputs": [
        {
          "output_type": "stream",
          "name": "stdout",
          "text": [
            "Original set : {1, 2, 3, 4}\n",
            "Updated set after adding : {1, 2, 3, 4, 6}\n"
          ]
        }
      ]
    },
    {
      "cell_type": "code",
      "source": [
        " #18. Write a code to create a tuple with the elements 10, 20, 30 and print it.\n",
        "my_tuple = (10, 20, 30)\n",
        "print(\"Tuple with elements 10, 20, and 30 :\")\n",
        "print(my_tuple)"
      ],
      "metadata": {
        "colab": {
          "base_uri": "https://localhost:8080/"
        },
        "id": "W-tP4LyOUxLa",
        "outputId": "38ffefcb-2438-4134-8fd9-44102b70e54e"
      },
      "execution_count": null,
      "outputs": [
        {
          "output_type": "stream",
          "name": "stdout",
          "text": [
            "Tuple with elements 10, 20, and 30 :\n",
            "(10, 20, 30)\n"
          ]
        }
      ]
    },
    {
      "cell_type": "code",
      "source": [
        "#19. Write a code to access the first element of the tuple ('apple', 'banana', 'cherry').\n",
        "#Same as Q14)\n",
        "my_tuple = ('apple', 'banana', 'cherry')\n",
        "# Create a tuple with animal names\n",
        "my_tuple = ('dog', 'cat', 'rabbit')\n",
        "\n",
        "# Find the index of the element \"cat\" in the tuple\n",
        "print(my_tuple.index('cat'))\n",
        "\n",
        "# Access the first element of the tuple (index 0)\n",
        "print(my_tuple[0])"
      ],
      "metadata": {
        "colab": {
          "base_uri": "https://localhost:8080/"
        },
        "id": "yRtPMN8MU_so",
        "outputId": "c41d12d0-f936-4f63-9dfa-2e90371dba75"
      },
      "execution_count": null,
      "outputs": [
        {
          "output_type": "stream",
          "name": "stdout",
          "text": [
            "apple\n"
          ]
        }
      ]
    },
    {
      "cell_type": "code",
      "source": [
        "#20. Write a code to count how many times the number 2 appears in the tuple (1, 2, 3, 2, 4, 2).\n",
        "my_tuple = (1, 2, 3, 2, 4, 2)\n",
        "print(\"Count of '2' appears in the tuple is\", my_tuple.count(2))"
      ],
      "metadata": {
        "colab": {
          "base_uri": "https://localhost:8080/"
        },
        "id": "eITgdtqDVKFh",
        "outputId": "62b1c1ca-a4a0-4288-9fe4-7cd034069d78"
      },
      "execution_count": null,
      "outputs": [
        {
          "output_type": "stream",
          "name": "stdout",
          "text": [
            "Count of '2' appears in the tuple is 3\n"
          ]
        }
      ]
    },
    {
      "cell_type": "code",
      "source": [
        " #21. Write a code to find the index of the element \"cat\" in the tuple ('dog', 'cat', 'rabbit').\n",
        "my_tuple = ('dog', 'cat', 'rabbit')\n",
        "element = 'cat'\n",
        "print( f\"The index of the element 'cat' in {my_tuple} is\", my_tuple.index('cat')) # use index()"
      ],
      "metadata": {
        "colab": {
          "base_uri": "https://localhost:8080/"
        },
        "id": "HGlc_g3vVqib",
        "outputId": "a35e66cd-1007-41dc-e79c-b7b6e6424974"
      },
      "execution_count": null,
      "outputs": [
        {
          "output_type": "stream",
          "name": "stdout",
          "text": [
            "The index of the element 'cat' in ('dog', 'cat', 'rabbit') is 1\n"
          ]
        }
      ]
    },
    {
      "cell_type": "code",
      "source": [
        "#22. Write a code to check if the element \"banana\" is in the tuple ('apple', 'orange', 'banana').\n",
        "#Same as Q15\n",
        "\n",
        "my_tuple = ('apple', 'orange', 'banana')\n",
        "print('banana' in my_tuple) # in operator Checks if \"banana\" is in the tuple"
      ],
      "metadata": {
        "colab": {
          "base_uri": "https://localhost:8080/"
        },
        "id": "ACICcbwOWNhx",
        "outputId": "47be682b-e09d-4b28-aa03-cf51ffdc6927"
      },
      "execution_count": null,
      "outputs": [
        {
          "output_type": "stream",
          "name": "stdout",
          "text": [
            "True\n"
          ]
        }
      ]
    },
    {
      "cell_type": "code",
      "source": [
        "#23. Write a code to create a set with the elements 1, 2, 3, 4, 5 and print it.\n",
        "#SAME AS Q16.\n",
        "my_set = {1, 2, 3, 4, 5}\n",
        "print(\"The set with numbers 1 to 5:\")\n",
        "print(my_set)"
      ],
      "metadata": {
        "colab": {
          "base_uri": "https://localhost:8080/"
        },
        "id": "6qXKd3CeWcYz",
        "outputId": "eecd2066-3667-4e4e-cab0-dcda9e288399"
      },
      "execution_count": null,
      "outputs": [
        {
          "output_type": "stream",
          "name": "stdout",
          "text": [
            "The set with numbers 1 to 5:\n",
            "{1, 2, 3, 4, 5}\n"
          ]
        }
      ]
    },
    {
      "cell_type": "code",
      "source": [
        "#24. Write a code to add the element 6 to the set {1, 2, 3, 4}\n",
        "#SAME AS Q17\n",
        "\n",
        "my_set = {1, 2, 3, 4}\n",
        "print(\"Original set :\",my_set)\n",
        "\n",
        "# Add the element 6 to the set\n",
        "my_set.add(6)\n",
        "print(\"Updated set after adding 6 :\",my_set)\n"
      ],
      "metadata": {
        "colab": {
          "base_uri": "https://localhost:8080/"
        },
        "id": "jPDFNxCsWpKl",
        "outputId": "0c674681-5843-4953-8139-b2f4a1374933"
      },
      "execution_count": null,
      "outputs": [
        {
          "output_type": "stream",
          "name": "stdout",
          "text": [
            "Original set : {1, 2, 3, 4}\n",
            "Updated set after adding 6 : {1, 2, 3, 4, 6}\n"
          ]
        }
      ]
    }
  ]
}