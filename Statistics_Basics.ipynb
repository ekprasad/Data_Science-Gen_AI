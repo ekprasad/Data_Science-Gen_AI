{
  "nbformat": 4,
  "nbformat_minor": 0,
  "metadata": {
    "colab": {
      "provenance": []
    },
    "kernelspec": {
      "name": "python3",
      "display_name": "Python 3"
    },
    "language_info": {
      "name": "python"
    }
  },
  "cells": [
    {
      "cell_type": "markdown",
      "source": [
        "# Statistics Basics"
      ],
      "metadata": {
        "id": "m2klkfMOZetv"
      }
    },
    {
      "cell_type": "markdown",
      "source": [
        "**Q1) Explain the different types of data (qualitative and quantitative) and provide examples of each. Discuss nominal, ordinal, interval, and ratio scales.**\n",
        "\n",
        "-> **Types of Data: Qualitative and Quantitative**\n",
        "1. Qualitative Data: - It is also known as categorical data, qualitative data represents characteristics or attributes that cannot be measured numerically.\n",
        "\n",
        "Examples:\n",
        "Nominal: Types of fruits (apple, banana, cherry).\n",
        "\n",
        "Ordinal: Education level (high school, bachelor's, master's).\n",
        "\n",
        "\n",
        "2. Quantitative Data: It is also known as Numerical data that represents quantities and can be measured.\n",
        "\n",
        "Examples:\n",
        "Interval: Temperature in Celsius or Fahrenheit, IQ scores. (e.g., 25°C, 30°C).\n",
        "\n",
        "Ratio: Weight (e.g., 50 kg, 70 kg).\n",
        "\n",
        "**Scales of Measurement:**\n",
        "* Nominal: Categories without a specific order (e.g., gender, blood type).\n",
        "* Ordinal: Ordered categories with no consistent difference between levels (e.g., survey rankings).\n",
        "* Interval: Ordered data with consistent intervals but no true zero (e.g., calendar years).\n",
        "* Ratio: Ordered data with consistent intervals and a true zero (e.g., distance, income)."
      ],
      "metadata": {
        "id": "lm1K3eLEZh1i"
      }
    },
    {
      "cell_type": "markdown",
      "source": [
        "**Q2)  2. What are the measures of central tendency, and when should you use each? Discuss the mean, median, and mode with examples and situations where each is appropriate.**\n",
        "\n",
        "-> **Measures of Central Tendency**\n",
        "Measures of central tendency describe the center point of a data set, helping summarize it with a single value. The three most common measures are mean, median, and mode. Each is appropriate in different scenarios based on the nature of the data and its distribution.It is used for symmetric data when precision is needed.\n",
        "\n",
        "**1. Mean (Arithmetic Average)**\n",
        "\n",
        "The mean is the sum of all data points divided by the total number of points.\n",
        "  \n",
        "Formula: $\\text{Mean} = \\frac{\\text{Sum of all data points}}{\\text{Total number of data points}}$\n",
        "\n",
        "**Example Scenario:**\n",
        "\n",
        "Calculating the average test score in a class.\n",
        "\n",
        "For the data set: \\( 5, 10, 15, 20, 25 \\):\n",
        "\n",
        " $\\text{Mean} = \\frac{5 + 10 + 15 + 20 + 25}{5} = 15 $\n",
        "  \n",
        "**2. Median (Middle Value)**\n",
        "\n",
        "The median is the middle value of a data set when arranged in ascending or descending order. If the number of data points is even, it is the average of the two middle values. It is used for skewed data to reduce the impact of outliers.\n",
        "  \n",
        "**Example Scenario:**\n",
        "Finding the middle salary in a company where a few executives earn significantly more than other employees.\n",
        "  * For \\( 3, 8, 9, 15, 25 \\): The median is \\( 9 \\).\n",
        "  * For \\( 4, 10, 11, 15 \\): The median is $(\\frac {10 + 11}{2}) = 10.5  $.\n",
        "\n",
        "**3. Mode (Most Frequent Value)**\n",
        "The mode is the value(s) that appear most frequently in the data set. A data set can be:\n",
        "  - **Unimodal:** One mode.\n",
        "  - **Bimodal:** Two modes.\n",
        "  - **Multimodal:** More than two modes.\n",
        "It is used for categorical data or when identifying the most frequent value is important.\n",
        "  \n",
        "**Example Scenario:**\n",
        "Determining the most popular car color sold in a dealership.\n",
        "  * For ( 2, 3, 3, 7, 8, 8, 8, 10 ) : The mode is ( 8 ).\n",
        "  * For ( 4, 5, 5, 7, 7, 8 ): The modes are ( 5 ) and ( 7 ) (bimodal)."
      ],
      "metadata": {
        "id": "CBIHHyF_dE8h"
      }
    },
    {
      "cell_type": "markdown",
      "source": [
        "**Q3)  Explain the concept of dispersion. How do variance and standard deviation measure the spread of data?**\n",
        "\n",
        "-> **Concept of Dispersion**\n",
        "Dispersion refers to the spread of data points around a central value (e.g., the mean). It indicates variability in the dataset.  \n",
        "\n",
        "**Variance**\n",
        "* Measures the **average squared deviation** from the mean.  \n",
        "* **Formula:** $\\sigma^2 = \\frac{\\sum (x_i - \\mu)^2}{N}$\n",
        "* **Example:** If data points are far from the mean, variance is large, indicating high variability.\n",
        "\n",
        "**Standard Deviation**\n",
        "- The **square root of variance**, representing the average deviation from the mean in original units.  \n",
        "- **Formula:** $\\sigma = \\sqrt{\\sigma^2}$\n",
        "- **Example:** A small standard deviation means data points are tightly clustered around the mean; a large one means greater spread."
      ],
      "metadata": {
        "id": "L-P3-WOzOS5F"
      }
    },
    {
      "cell_type": "markdown",
      "source": [
        "**Q4) What is a box plot, and what can it tell you about the distribution of data?**\n",
        "\n",
        "-> A box plot (or box-and-whisker plot) is a graphical representation of data that shows its distribution through five key summary statistics:\n",
        "\n",
        "* **Minimum**: Smallest data point (excluding outliers).  \n",
        "* **Lower quartile (Q1)**: 25th percentile.  \n",
        "* **Median (Q2)**: Middle value (50th percentile).  \n",
        "* **Upper quartile (Q3)**: 75th percentile.  \n",
        "* **Maximum**: Largest data point (excluding outliers).\n",
        "\n",
        "It highlights the spread, central tendency, and variability of the data, while also revealing outliers and symmetry or skewness in the distribution."
      ],
      "metadata": {
        "id": "L3cs2oG-YH9o"
      }
    },
    {
      "cell_type": "markdown",
      "source": [
        "**Q5)  Discuss the role of random sampling in making inferences about populations.**\n",
        "\n",
        "-> Random sampling ensures that every individual in a population has an equal chance of selection, making the sample representative. This reduces bias, supports statistical analysis, and allows generalization of results to the entire population, enabling accurate and reliable inferences.\n",
        "\n",
        "Example: Selecting 200 students randomly to analyze school performance."
      ],
      "metadata": {
        "id": "5MXVlLXAZM-H"
      }
    },
    {
      "cell_type": "markdown",
      "source": [
        "**Q6) Explain the concept of skewness and its types. How does skewness affect the interpretation of data?**\n",
        "\n",
        "->**Skewness** measures the asymmetry of a data distribution. It indicates whether the data is concentrated more on one side of the mean.\n",
        "\n",
        "**Types of Skewness**:\n",
        "1. **Positive Skew (Right-Skewed)**:  \n",
        "   * Tail is longer on the right.  \n",
        "   * Mean > Median > Mode.  \n",
        "   * Indicates a concentration of lower values with a few higher outliers.\n",
        "\n",
        "2. **Negative Skew (Left-Skewed)**:  \n",
        "   * Tail is longer on the left.  \n",
        "   * Mean < Median < Mode.  \n",
        "   * Indicates a concentration of higher values with a few lower outliers.\n",
        "\n",
        "3. **Symmetrical (Zero Skewness)**:  \n",
        "   * The data is evenly distributed around the mean.  \n",
        "   * Mean ≈ Median ≈ Mode.\n",
        "\n",
        "**Effect on Interpretation**:\n",
        "* **Central Tendency**: Skewness affects the relationship between the mean, median, and mode.  \n",
        "* **Outliers**: Skewed data often indicates the presence of outliers, influencing data analysis.  \n",
        "* **Statistical Models**: Many models assume normality, so skewness may require data transformation or alternative techniques.  \n"
      ],
      "metadata": {
        "id": "MJxAGeQLac_p"
      }
    },
    {
      "cell_type": "markdown",
      "source": [
        "**Q7) What is the interquartile range (IQR), and how is it used to detect outliers?**\n",
        "\n",
        "->The interquartile range (IQR) is a measure of statistical dispersion that represents the range within which the central 50% of a dataset lies. It is calculated as:\n",
        "\n",
        " $\\text{IQR} = Q3 - Q1 $\n",
        "\n",
        "Where:  \n",
        "- **Q1**: The first quartile (25th percentile).  \n",
        "- **Q3**: The third quartile (75th percentile).\n",
        "\n",
        "IQR is robust to extreme values, making it ideal for detecting outliers in skewed data or data with heavy tails.\n",
        "\n",
        "**Using IQR to Detect Outliers**:\n",
        "\n",
        "Outliers are values that fall significantly outside the typical range of the data. They can be identified using the following rule:\n",
        "\n",
        "- **Lower Bound**:  Q1 - 1.5 * IQR  \n",
        "- **Upper Bound**:  Q3 + 1.5 * IQR\n",
        "\n",
        "Any data point below the lower bound or above the upper bound is considered an outlier."
      ],
      "metadata": {
        "id": "RtKsAgOVc1YF"
      }
    },
    {
      "cell_type": "markdown",
      "source": [
        "**Q8)  Discuss the conditions under which the binomial distribution is used.**\n",
        "\n",
        "-> The binomial distribution provides the probability of observing a specific number of successes in particular scenarios.The binomial distribution is used under the following conditions:\n",
        "\n",
        "1. **Fixed Number of Trials (n)**:  \n",
        "   The process consists of a fixed number of independent trials.\n",
        "\n",
        "2. **Binary Outcomes**:  \n",
        "   Each trial has only two possible outcomes, typically labeled as \"success\" and \"failure.\"\n",
        "\n",
        "3. **Constant Probability (p)**:  \n",
        "   The probability of success (\\(p\\)) remains constant for each trial.\n",
        "\n",
        "4. **Independent Trials**:  \n",
        "   The outcome of one trial does not affect the outcome of others.\n",
        "\n",
        "5. **Discrete Random Variable**:  \n",
        "   The distribution models the number of successes (\\(X\\)) in \\(n\\) trials, where \\(X\\) is a discrete random variable.\n",
        "\n",
        "**Examples of Use**:\n",
        "* Flipping a coin multiple times (heads vs. tails).  \n",
        "* Testing a batch of items (defective vs. non-defective).  \n",
        "* Surveying a population for a yes/no response.  "
      ],
      "metadata": {
        "id": "MM5RoerqiPK5"
      }
    },
    {
      "cell_type": "markdown",
      "source": [
        "**Q9) Explain the properties of the normal distribution and the empirical rule (68-95-99.7 rule).**\n",
        "\n",
        "->**Properties of the Normal Distribution**:\n",
        "1. **Bell-Shaped Curve**:  \n",
        "   The normal distribution is symmetric and centered around the mean.\n",
        "\n",
        "2. **Mean, Median, and Mode are Equal**:  \n",
        "   These measures of central tendency are identical and located at the center of the distribution.\n",
        "\n",
        "3. **Symmetry**:  \n",
        "   The left and right halves of the curve are mirror images.\n",
        "\n",
        "4. **Defined by Two Parameters**:  \n",
        "   * **Mean (\\( \\mu \\))**: Determines the center.  \n",
        "   * **Standard Deviation (\\( \\sigma \\))**: Measures the spread.\n",
        "\n",
        "5. **Asymptotic**:  \n",
        "   The tails extend infinitely without touching the horizontal axis.\n",
        "\n",
        "6. **Area Under the Curve Equals 1**:  \n",
        "   The total probability for all values in the distribution is 100%.\n",
        "\n",
        "**Empirical Rule (68-95-99.7 Rule)**:\n",
        "The empirical rule applies to normal distributions and describes how data is distributed within standard deviations (σ) of the mean (μ)\n",
        "\n",
        "1. **68% of Data**: Falls within 1 standard deviation $\\mu \\pm 1\\sigma$.  \n",
        "2. **95% of Data**: Falls within 2 standard deviations $\\mu \\pm 2\\sigma$.\n",
        "3. **99.7% of Data**: Falls within 3 standard deviations $\\mu \\pm 3\\sigma$."
      ],
      "metadata": {
        "id": "lfK7Oc4O8Ld1"
      }
    },
    {
      "cell_type": "markdown",
      "source": [
        "**Q10) Provide a real-life example of a Poisson process and calculate the probability for a specific event.**\n",
        "\n",
        "-> Real-Life Example of a Poisson Process:\n",
        "Scenario:\n",
        "Suppose a call center receives an average of 5 customer calls per hour. This is a classic Poisson process because:\n",
        "\n",
        "* Calls occur randomly and independently.\n",
        "* The average rate of calls (5 per hour) is constant.\n",
        "* Only one call can occur at any exact moment.\n",
        "* We want to calculate the probability of receiving exactly 3 calls in an hour.\n",
        "\n",
        "A **Poisson process** models random events occurring at a constant average rate. For example, if a call center gets 5 calls/hour on average, the probability of exactly 3 calls in an hour is:\n",
        "\n",
        "$\\text{P(X = 3)} = \\frac{5^3 e^{-5}}{3!} \\approx 0.1404 $\n",
        "\n",
        "So, there's approximately **0.1404 or 14.04% chance** of receiving 3 calls in an hour."
      ],
      "metadata": {
        "id": "T5ccpjDC9oK7"
      }
    },
    {
      "cell_type": "code",
      "source": [
        "import math\n",
        "\n",
        "# Parameters\n",
        "lmbda = 5  # Average rate (calls per hour)\n",
        "k = 3      # Number of events (calls)\n",
        "\n",
        "# Poisson probability formula\n",
        "P = (lmbda**k * math.exp(-lmbda)) / math.factorial(k)\n",
        "print(f\"Probability of exactly {k} calls: {P:.4f}\") #OUTPUT : Probability of exactly 3 calls: 0.1404"
      ],
      "metadata": {
        "colab": {
          "base_uri": "https://localhost:8080/"
        },
        "id": "wEV8-hyd-nkf",
        "outputId": "8880f55f-4ded-41cb-e564-bfb3ee77b554"
      },
      "execution_count": 1,
      "outputs": [
        {
          "output_type": "stream",
          "name": "stdout",
          "text": [
            "Probability of exactly 3 calls: 0.1404\n"
          ]
        }
      ]
    },
    {
      "cell_type": "markdown",
      "source": [
        "**Q11)Explain what a random variable is and differentiate between discrete and continuous random variables.**\n",
        "\n",
        "->A **random variable** is a numerical value assigned to the outcome of a random experiment. It can represent the result of rolling dice, measuring temperature, or counting arrivals at a store.\n",
        "\n",
        "**Types of Random Variables**:\n",
        "1. **Discrete Random Variable**:\n",
        "   - Takes on **countable** values (e.g., 0, 1, 2, ...).  \n",
        "   - Example: Number of heads in 10 coin tosses.  \n",
        "   - Distribution: Represented by a probability mass function (PMF).\n",
        "\n",
        "2. **Continuous Random Variable**:\n",
        "   - Takes on **infinite** values within a range.  \n",
        "   - Example: Height of students in a class.  \n",
        "   - Distribution: Represented by a probability density function (PDF).\n",
        "\n",
        "**Key Difference**:\n",
        "- **Discrete**: Countable outcomes (finite or infinite).  \n",
        "- **Continuous**: Measurable outcomes within intervals.  "
      ],
      "metadata": {
        "id": "tz_TRrfB_WOx"
      }
    },
    {
      "cell_type": "markdown",
      "source": [
        "**Q12)  Provide an example dataset, calculate both covariance and correlation, and interpret the results.**\n",
        "\n",
        "-> Example of calculation covariance and correlation:\n",
        "\n",
        "**Example Dataset**:\n",
        "- \\( X = [2, 4, 6, 8, 10] \\)  (Study Hours)\n",
        "- \\( Y = [50, 60, 65, 70, 80] \\)  (Exam Scores)\n",
        "\n",
        "**Covariance**  \n",
        "The covariance is calculated as: $\\text{Cov}(X, Y) = 35$\n",
        "\n",
        "A positive covariance indicates that as study hours increase, exam scores also tend to increase.\n",
        "\n",
        "**Correlation**  \n",
        "The correlation is: $\\text{r} = 0.99 $\n",
        "\n",
        "This high correlation suggests a very strong positive linear relationship between study hours and exam scores.\n"
      ],
      "metadata": {
        "id": "YhIbSeBW_5XT"
      }
    },
    {
      "cell_type": "code",
      "source": [
        "import numpy as np\n",
        "\n",
        "# Dataset\n",
        "X = np.array([2, 4, 6, 8, 10])  # Study Hours\n",
        "Y = np.array([50, 60, 65, 70, 80])  # Exam Scores\n",
        "\n",
        "# Calculate Covariance\n",
        "covariance = np.cov(X, Y)[0][1]\n",
        "\n",
        "# Calculate Correlation\n",
        "correlation = np.corrcoef(X, Y)[0][1]\n",
        "\n",
        "# Output the results\n",
        "print(f\"Covariance: {covariance}\")\n",
        "print(f\"Correlation: {correlation}\")"
      ],
      "metadata": {
        "colab": {
          "base_uri": "https://localhost:8080/"
        },
        "id": "aB3scMQPByAc",
        "outputId": "980ad901-4846-4950-c27e-d58e033e6384"
      },
      "execution_count": 2,
      "outputs": [
        {
          "output_type": "stream",
          "name": "stdout",
          "text": [
            "Covariance: 35.0\n",
            "Correlation: 0.9899494936611665\n"
          ]
        }
      ]
    }
  ]
}